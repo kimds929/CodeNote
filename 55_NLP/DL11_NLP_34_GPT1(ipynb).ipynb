{
  "nbformat": 4,
  "nbformat_minor": 0,
  "metadata": {
    "colab": {
      "provenance": []
    },
    "kernelspec": {
      "name": "python3",
      "display_name": "Python 3"
    },
    "language_info": {
      "name": "python"
    },
    "accelerator": "GPU",
    "gpuClass": "standard"
  },
  "cells": [
    {
      "cell_type": "code",
      "execution_count": 1,
      "metadata": {
        "id": "yf310paWCuOF"
      },
      "outputs": [],
      "source": [
        "import numpy as np\n",
        "import pandas as pd\n",
        "import matplotlib.pyplot as plt\n",
        "\n",
        "import tensorflow as tf\n",
        "import torch"
      ]
    },
    {
      "cell_type": "code",
      "source": [
        "!pip install httpimport"
      ],
      "metadata": {
        "colab": {
          "base_uri": "https://localhost:8080/"
        },
        "id": "3TiGJQs0Fn-0",
        "outputId": "8b367878-8709-4083-f905-79bd1facfd69"
      },
      "execution_count": 2,
      "outputs": [
        {
          "output_type": "stream",
          "name": "stdout",
          "text": [
            "Looking in indexes: https://pypi.org/simple, https://us-python.pkg.dev/colab-wheels/public/simple/\n",
            "Requirement already satisfied: httpimport in /usr/local/lib/python3.9/dist-packages (1.3.0)\n"
          ]
        }
      ]
    },
    {
      "cell_type": "code",
      "source": [
        "import httpimport\n",
        "remote_url = 'https://raw.githubusercontent.com/kimds929/'"
      ],
      "metadata": {
        "id": "VML67C7WFscL"
      },
      "execution_count": 3,
      "outputs": []
    },
    {
      "cell_type": "code",
      "source": [
        "url_path = 'https://raw.githubusercontent.com/kimds929/CodeNote/main/99_DataSet/'\n",
        "train_df = pd.read_csv(f'{url_path}/NLP_movie_review_train_tokenized.csv', encoding='utf-8-sig')\n",
        "print(train_df.shape)"
      ],
      "metadata": {
        "colab": {
          "base_uri": "https://localhost:8080/"
        },
        "id": "kosfW_fACxIY",
        "outputId": "05a58bba-1753-4728-adc5-8289959683c7"
      },
      "execution_count": 4,
      "outputs": [
        {
          "output_type": "stream",
          "name": "stdout",
          "text": [
            "(143620, 3)\n"
          ]
        }
      ]
    },
    {
      "cell_type": "code",
      "source": [
        "train_df.sample(5)"
      ],
      "metadata": {
        "colab": {
          "base_uri": "https://localhost:8080/",
          "height": 206
        },
        "id": "GyHwpvsYC2yn",
        "outputId": "01d23a92-d597-4001-ca78-cbe02b0a5ade"
      },
      "execution_count": 5,
      "outputs": [
        {
          "output_type": "execute_result",
          "data": {
            "text/plain": [
              "              id  label                                          tokenized\n",
              "136638   7675450      1     ['힐끆', '힐끆', '힐', '끄다', '요시', '힐링', '대', '쓰다']\n",
              "78786    5546784      0  ['일본인', '영화', '만들다', '내', '본', '영화', '중', '사상'...\n",
              "135044   9340240      1  ['살', '젊다', '나이', '세상', '을', '떠나다', '영웅', '꼭',...\n",
              "70240   10109140      1                            ['재미있다', '그리다', '잘생기다']\n",
              "44198    8648620      0  ['여자', '명', '나오다', '명', '얼굴', '인간', '같다', '않다'..."
            ],
            "text/html": [
              "\n",
              "  <div id=\"df-f498e553-7a55-4730-8e9b-6dcadeea51c4\">\n",
              "    <div class=\"colab-df-container\">\n",
              "      <div>\n",
              "<style scoped>\n",
              "    .dataframe tbody tr th:only-of-type {\n",
              "        vertical-align: middle;\n",
              "    }\n",
              "\n",
              "    .dataframe tbody tr th {\n",
              "        vertical-align: top;\n",
              "    }\n",
              "\n",
              "    .dataframe thead th {\n",
              "        text-align: right;\n",
              "    }\n",
              "</style>\n",
              "<table border=\"1\" class=\"dataframe\">\n",
              "  <thead>\n",
              "    <tr style=\"text-align: right;\">\n",
              "      <th></th>\n",
              "      <th>id</th>\n",
              "      <th>label</th>\n",
              "      <th>tokenized</th>\n",
              "    </tr>\n",
              "  </thead>\n",
              "  <tbody>\n",
              "    <tr>\n",
              "      <th>136638</th>\n",
              "      <td>7675450</td>\n",
              "      <td>1</td>\n",
              "      <td>['힐끆', '힐끆', '힐', '끄다', '요시', '힐링', '대', '쓰다']</td>\n",
              "    </tr>\n",
              "    <tr>\n",
              "      <th>78786</th>\n",
              "      <td>5546784</td>\n",
              "      <td>0</td>\n",
              "      <td>['일본인', '영화', '만들다', '내', '본', '영화', '중', '사상'...</td>\n",
              "    </tr>\n",
              "    <tr>\n",
              "      <th>135044</th>\n",
              "      <td>9340240</td>\n",
              "      <td>1</td>\n",
              "      <td>['살', '젊다', '나이', '세상', '을', '떠나다', '영웅', '꼭',...</td>\n",
              "    </tr>\n",
              "    <tr>\n",
              "      <th>70240</th>\n",
              "      <td>10109140</td>\n",
              "      <td>1</td>\n",
              "      <td>['재미있다', '그리다', '잘생기다']</td>\n",
              "    </tr>\n",
              "    <tr>\n",
              "      <th>44198</th>\n",
              "      <td>8648620</td>\n",
              "      <td>0</td>\n",
              "      <td>['여자', '명', '나오다', '명', '얼굴', '인간', '같다', '않다'...</td>\n",
              "    </tr>\n",
              "  </tbody>\n",
              "</table>\n",
              "</div>\n",
              "      <button class=\"colab-df-convert\" onclick=\"convertToInteractive('df-f498e553-7a55-4730-8e9b-6dcadeea51c4')\"\n",
              "              title=\"Convert this dataframe to an interactive table.\"\n",
              "              style=\"display:none;\">\n",
              "        \n",
              "  <svg xmlns=\"http://www.w3.org/2000/svg\" height=\"24px\"viewBox=\"0 0 24 24\"\n",
              "       width=\"24px\">\n",
              "    <path d=\"M0 0h24v24H0V0z\" fill=\"none\"/>\n",
              "    <path d=\"M18.56 5.44l.94 2.06.94-2.06 2.06-.94-2.06-.94-.94-2.06-.94 2.06-2.06.94zm-11 1L8.5 8.5l.94-2.06 2.06-.94-2.06-.94L8.5 2.5l-.94 2.06-2.06.94zm10 10l.94 2.06.94-2.06 2.06-.94-2.06-.94-.94-2.06-.94 2.06-2.06.94z\"/><path d=\"M17.41 7.96l-1.37-1.37c-.4-.4-.92-.59-1.43-.59-.52 0-1.04.2-1.43.59L10.3 9.45l-7.72 7.72c-.78.78-.78 2.05 0 2.83L4 21.41c.39.39.9.59 1.41.59.51 0 1.02-.2 1.41-.59l7.78-7.78 2.81-2.81c.8-.78.8-2.07 0-2.86zM5.41 20L4 18.59l7.72-7.72 1.47 1.35L5.41 20z\"/>\n",
              "  </svg>\n",
              "      </button>\n",
              "      \n",
              "  <style>\n",
              "    .colab-df-container {\n",
              "      display:flex;\n",
              "      flex-wrap:wrap;\n",
              "      gap: 12px;\n",
              "    }\n",
              "\n",
              "    .colab-df-convert {\n",
              "      background-color: #E8F0FE;\n",
              "      border: none;\n",
              "      border-radius: 50%;\n",
              "      cursor: pointer;\n",
              "      display: none;\n",
              "      fill: #1967D2;\n",
              "      height: 32px;\n",
              "      padding: 0 0 0 0;\n",
              "      width: 32px;\n",
              "    }\n",
              "\n",
              "    .colab-df-convert:hover {\n",
              "      background-color: #E2EBFA;\n",
              "      box-shadow: 0px 1px 2px rgba(60, 64, 67, 0.3), 0px 1px 3px 1px rgba(60, 64, 67, 0.15);\n",
              "      fill: #174EA6;\n",
              "    }\n",
              "\n",
              "    [theme=dark] .colab-df-convert {\n",
              "      background-color: #3B4455;\n",
              "      fill: #D2E3FC;\n",
              "    }\n",
              "\n",
              "    [theme=dark] .colab-df-convert:hover {\n",
              "      background-color: #434B5C;\n",
              "      box-shadow: 0px 1px 3px 1px rgba(0, 0, 0, 0.15);\n",
              "      filter: drop-shadow(0px 1px 2px rgba(0, 0, 0, 0.3));\n",
              "      fill: #FFFFFF;\n",
              "    }\n",
              "  </style>\n",
              "\n",
              "      <script>\n",
              "        const buttonEl =\n",
              "          document.querySelector('#df-f498e553-7a55-4730-8e9b-6dcadeea51c4 button.colab-df-convert');\n",
              "        buttonEl.style.display =\n",
              "          google.colab.kernel.accessAllowed ? 'block' : 'none';\n",
              "\n",
              "        async function convertToInteractive(key) {\n",
              "          const element = document.querySelector('#df-f498e553-7a55-4730-8e9b-6dcadeea51c4');\n",
              "          const dataTable =\n",
              "            await google.colab.kernel.invokeFunction('convertToInteractive',\n",
              "                                                     [key], {});\n",
              "          if (!dataTable) return;\n",
              "\n",
              "          const docLinkHtml = 'Like what you see? Visit the ' +\n",
              "            '<a target=\"_blank\" href=https://colab.research.google.com/notebooks/data_table.ipynb>data table notebook</a>'\n",
              "            + ' to learn more about interactive tables.';\n",
              "          element.innerHTML = '';\n",
              "          dataTable['output_type'] = 'display_data';\n",
              "          await google.colab.output.renderOutput(dataTable, element);\n",
              "          const docLink = document.createElement('div');\n",
              "          docLink.innerHTML = docLinkHtml;\n",
              "          element.appendChild(docLink);\n",
              "        }\n",
              "      </script>\n",
              "    </div>\n",
              "  </div>\n",
              "  "
            ]
          },
          "metadata": {},
          "execution_count": 5
        }
      ]
    },
    {
      "cell_type": "code",
      "source": [
        "train_X = train_df['tokenized']"
      ],
      "metadata": {
        "id": "_qyRPmn4EJt2"
      },
      "execution_count": 6,
      "outputs": []
    },
    {
      "cell_type": "code",
      "source": [
        "with httpimport.remote_repo(f\"{remote_url}/DS_Library/main/\"):\n",
        "    from DS_NLP import NLP_Preprocessor"
      ],
      "metadata": {
        "id": "hB_kgQIpGHD4"
      },
      "execution_count": 7,
      "outputs": []
    },
    {
      "cell_type": "code",
      "source": [
        "processor = NLP_Preprocessor(texts=train_X)\n",
        "processor.word_prob()"
      ],
      "metadata": {
        "colab": {
          "base_uri": "https://localhost:8080/",
          "height": 476
        },
        "id": "595ZpSRvC4OG",
        "outputId": "671d93a0-5017-4d5e-bcd2-d448c1125c99"
      },
      "execution_count": 8,
      "outputs": [
        {
          "output_type": "display_data",
          "data": {
            "text/plain": [
              "<Figure size 640x480 with 1 Axes>"
            ],
            "image/png": "[encoded data removed]"
          },
          "metadata": {}
        }
      ]
    },
    {
      "cell_type": "code",
      "source": [
        "num_words = 4380\n",
        "processor = NLP_Preprocessor(texts=train_X)\n",
        "processor.fit_on_texts(num_words=num_words).texts_to_sequences().add_sos_eos().pad_sequences()\n",
        "# processor.vocab_size\n",
        "# processor.word_index\n",
        "train_y = train_df['label'].to_numpy()[processor.texts_index]\n",
        "print(processor.texts.shape, train_y.shape)"
      ],
      "metadata": {
        "colab": {
          "base_uri": "https://localhost:8080/"
        },
        "id": "dek6G6SrELep",
        "outputId": "d3f3e26d-76bc-47f8-d053-e19be37efe72"
      },
      "execution_count": 9,
      "outputs": [
        {
          "output_type": "stream",
          "name": "stdout",
          "text": [
            "→ self.texts_texts_to_seq\n",
            "→ self.texts_add_sos_eos\n",
            "→ self.texts_pad_seq\n",
            "(142860, 69) (142860,)\n"
          ]
        }
      ]
    },
    {
      "cell_type": "code",
      "source": [
        "vocab_size = processor.vocab_size\n",
        "print(vocab_size)\n",
        "\n",
        "n_cls = 30000\n",
        "\n",
        "pretrain_X = processor.texts[:-n_cls]\n",
        "pretrain_y = train_y[:-n_cls]\n",
        "cls_X = processor.texts[-n_cls:]\n",
        "cls_y = train_y[-n_cls:]\n",
        "\n",
        "print(pretrain_X.shape, pretrain_y.shape, cls_X.shape, cls_y.shape)"
      ],
      "metadata": {
        "colab": {
          "base_uri": "https://localhost:8080/"
        },
        "id": "g0NiLkgTIA-p",
        "outputId": "663a1de3-8a5a-4ef5-c87a-553d13fa5f13"
      },
      "execution_count": 10,
      "outputs": [
        {
          "output_type": "stream",
          "name": "stdout",
          "text": [
            "4383\n",
            "(112860, 69) (112860,) (30000, 69) (30000,)\n"
          ]
        }
      ]
    },
    {
      "cell_type": "code",
      "source": [
        "with httpimport.remote_repo(f\"{remote_url}/DS_Library/main/\"):\n",
        "    from DS_Torch import TorchDataLoader"
      ],
      "metadata": {
        "id": "KWfp8CVoEMWx"
      },
      "execution_count": 11,
      "outputs": []
    },
    {
      "cell_type": "code",
      "source": [
        "# pretrain_dataset\n",
        "pretrain_loader = TorchDataLoader(pretrain_X, pretrain_y, split_size=(0.8,0.1,0.1), random_state=1)\n",
        "pretrain_loader.make_dataloader(batch_size=64, shuffle=True)\n",
        "pretrain_loader.dataloader\n",
        "pretrain_train_loader, pretrain_valid_loader, pretrain_test_loader = pretrain_loader.dataloader\n",
        "pretrain_sample_X, pretrain_sample_y = pretrain_loader.sample"
      ],
      "metadata": {
        "colab": {
          "base_uri": "https://localhost:8080/"
        },
        "id": "TB6OkQ0FEMbh",
        "outputId": "64dd796d-5215-4aa3-99e9-ba5dfd1c4b1f"
      },
      "execution_count": 12,
      "outputs": [
        {
          "output_type": "stream",
          "name": "stdout",
          "text": [
            "90288, 11286, 11286, \n"
          ]
        }
      ]
    },
    {
      "cell_type": "code",
      "source": [
        "# classification_dataset\n",
        "cls_loader = TorchDataLoader(cls_X, cls_y, split_size=(0.8,0.1,0.1), random_state=1)\n",
        "cls_loader.make_dataloader(batch_size=64, shuffle=True)\n",
        "cls_loader.dataloader\n",
        "cls_train_loader, cls_valid_loader, cls_test_loader = cls_loader.dataloader\n",
        "cls_sample_X, cls_sample_y = cls_loader.sample"
      ],
      "metadata": {
        "colab": {
          "base_uri": "https://localhost:8080/"
        },
        "id": "ang4DN6hEMeq",
        "outputId": "f61283de-72e9-42b6-f1a6-bc881cdbf3ec"
      },
      "execution_count": 13,
      "outputs": [
        {
          "output_type": "stream",
          "name": "stdout",
          "text": [
            "24000, 3000, 3000, \n"
          ]
        }
      ]
    },
    {
      "cell_type": "code",
      "source": [
        "with httpimport.remote_repo(f\"{remote_url}/DS_Library/main/\"):\n",
        "    from DS_TorchModule import EmbeddingLayer, PositionalEncodingLayer, PositionwiseFeedForwardLayer, MultiHeadAttentionLayer, make_tril_mask"
      ],
      "metadata": {
        "id": "vIXbkbNwEMhi"
      },
      "execution_count": 14,
      "outputs": []
    },
    {
      "cell_type": "code",
      "source": [
        "\n",
        "# ★★★ GPT1 (Pretrain, DownStream, Fine-Tunnning)\n",
        "class GPT1(torch.nn.Module):\n",
        "    def __init__(self, vocab_size, downstream_layer=None, embed_dim=256\n",
        "                 ,n_layers=1, n_heads=4, posff_dim=512, dropout=0.1, pos_encoding='sinusoid'\n",
        "                 ,pretrainable=True, downstreamable=True\n",
        "                 ):\n",
        "        super().__init__()\n",
        "        \n",
        "        # pretrain\n",
        "        self.gpt_decoder = GPT1_Decoder(vocab_size, embed_dim, n_layers, n_heads, \n",
        "                                   posff_dim, dropout, pos_encoding)\n",
        "        self.projection_layer = torch.nn.Linear(embed_dim, vocab_size, bias=False)\n",
        "        self.projection_layer.weight = self.gpt_decoder.embed_layer.weight     # We.T\n",
        "        \n",
        "        \n",
        "        # downstream\n",
        "        if downstream_layer is None:\n",
        "            self.downstream_layer = NullLayer()\n",
        "        else:\n",
        "            self.downstream_layer = downstream_layer\n",
        "            \n",
        "        self.pretrainable = True\n",
        "        self.downstreamable = True\n",
        "    \n",
        "    def forward(self, x):\n",
        "        # GPT1_Decoder\n",
        "        mask_tril = make_tril_mask(x).unsqueeze(1)\n",
        "        self.decoder_output = self.gpt_decoder(x, mask_tril)\n",
        "        with torch.no_grad():\n",
        "            # self.attention_scores = [layer.attention_score for layer_name, layer in self.decoder.decoder_layers.named_children()]\n",
        "            self.self_attention_score = self.gpt_decoder.decoder_layers[-1].self_attention_score\n",
        "\n",
        "        # pretrain \n",
        "        if self.pretrainable is True:\n",
        "            self.pretrain_output = self.projection_layer(self.decoder_output)\n",
        "            \n",
        "        # downstream\n",
        "        if self.downstreamable is True:\n",
        "            self.downstream_output = self.downstream_layer(self.decoder_output)\n",
        "        \n",
        "        # return\n",
        "        if (self.pretrainable is True) and (self.downstreamable is True):        \n",
        "            return self.pretrain_output, self.downstream_output\n",
        "        elif self.pretrainable is True:\n",
        "            return self.pretrain_output\n",
        "        elif self.downstreamable is True:\n",
        "            return self.downstream_output\n",
        "            \n",
        "    \n",
        "    def pretrain(self):\n",
        "        self.pretrainable = True\n",
        "        self.downstreamable = False\n",
        "    \n",
        "    def downstream(self):\n",
        "        self.pretrainable = False\n",
        "        self.downstreamable = True\n",
        "    \n",
        "    def fine_tunning(self):\n",
        "        self.pretrainable = True\n",
        "        self.downstreamable = True\n",
        "\n",
        "\n",
        "\n",
        "# GPT1_ClassificationLayer\n",
        "class GPT1_ClassifierLayer(torch.nn.Module):\n",
        "    def __init__(self, embed_dim=256):\n",
        "        super().__init__()\n",
        "        self.classifier_lm = torch.nn.Linear(embed_dim, 2, bias=False)\n",
        "    \n",
        "    def forward(self, x):\n",
        "        self.lm_output = self.classifier_lm(x[:,-1, :].contiguous())\n",
        "        self.output = torch.softmax(self.lm_output, dim=1)\n",
        "        return self.output\n",
        "\n",
        "# NullLayer\n",
        "class NullLayer(torch.nn.Module):\n",
        "    def __init__(self):\n",
        "        super().__init__()\n",
        "    \n",
        "    def forward(self, x):\n",
        "        return x\n",
        "\n",
        "\n",
        "# ★★ GPT1_Decoder \n",
        "#   gpt = GPT1_Decoder(vocab_size, embed_dim=2, n_heads=1)\n",
        "#   gpt(sample_X)\n",
        "#   mask_tril = make_tril_mask(sample_X,0).unsqueeze(1)\n",
        "#   gpt(sample_X, mask_tril)\n",
        "class GPT1_Decoder(torch.nn.Module):\n",
        "    def __init__(self, vocab_size, embed_dim=256, n_layers=1, n_heads=4, posff_dim=512, dropout=0.1, pos_encoding='sinusoid'):\n",
        "        super().__init__()\n",
        "        \n",
        "        self.embed_layer = EmbeddingLayer(vocab_size, embed_dim)\n",
        "        self.posembed_layer = PositionalEncodingLayer(pos_encoding)\n",
        "        self.dropout = torch.nn.Dropout(dropout)\n",
        "\n",
        "        self.decoder_layers = torch.nn.ModuleList([GPT1_DecoderLayer(embed_dim, n_heads, posff_dim, dropout) for _ in range(n_layers)])\n",
        "        \n",
        "    def forward(self, x, mask=None):\n",
        "        # x : (batch_seq, x_word)\n",
        "        # mask : (batch_seq, 1, y_word, y_word)\n",
        "\n",
        "        # embedding layer\n",
        "        self.x_embed = self.embed_layer(x)  # (batch_seq, x_word, emb)\n",
        "        \n",
        "        # positional encoding\n",
        "        self.x_posembed = self.posembed_layer(self.x_embed)     # (batch_seq, x_word, emb)\n",
        "        \n",
        "        # sum of X_emb_scaled and pos_emb_X\n",
        "        self.x_input = self.dropout(self.x_embed + self.x_posembed)     # (batch_seq, x_word, emb)\n",
        "        \n",
        "        # decoder layer\n",
        "        next_input = self.x_input\n",
        "        \n",
        "        for dec_layer in self.decoder_layers:\n",
        "            next_input = dec_layer(next_input, mask)\n",
        "        self.decoder_layer_output = next_input\n",
        "\n",
        "        return self.decoder_layer_output\n",
        "\n",
        "\n",
        "\n",
        "# ★ GPT1_DecoderLayer\n",
        "class GPT1_DecoderLayer(torch.nn.Module):\n",
        "    def __init__(self, embed_dim=256, n_heads=4, posff_dim=512, dropout=0):\n",
        "        super().__init__()\n",
        "        self.dropout = torch.nn.Dropout(dropout)\n",
        "        \n",
        "        self.self_att_layer = MultiHeadAttentionLayer(embed_dim, n_heads, dropout)\n",
        "        self.self_att_layer_norm = torch.nn.LayerNorm(embed_dim)\n",
        "        \n",
        "        self.posff_layer = PositionwiseFeedForwardLayer(embed_dim, posff_dim, dropout)\n",
        "        self.posff_layer_norm = torch.nn.LayerNorm(embed_dim)\n",
        "        \n",
        "    def forward(self, y_emb, y_mask=None):\n",
        "        # y_emb : (batch_seq, y_word, emb)\n",
        "        # X_mask : (batch_seq, 1, ,1, X_word)\n",
        "        # y_mask : (batch_seq, 1, y_word, y_word)\n",
        "        \n",
        "        # (Self Attention Layer) -------------------------------------------------------------------\n",
        "        self.y_self_att_output = self.self_att_layer((y_emb, y_emb, y_emb), mask=y_mask)\n",
        "        #  (batch_seq, y_word, fc_dim=emb)        \n",
        "        self.self_attention_score = self.self_att_layer.attention_score\n",
        "        # (batch_seq, n_heads, y_word, key_length=y_word)\n",
        "        \n",
        "        self.y_skipconnect_1 = y_emb + self.dropout(self.y_self_att_output)   # (batch_seq, y_word, emb)\n",
        "        # embeding+pos_input 값을 self_attention 결과와 더해준다.\n",
        "        \n",
        "        # (Layer Normalization) --------------------------------------------------------------------\n",
        "        self.y_layer_normed_1 = self.self_att_layer_norm(self.y_skipconnect_1)  # layer normalization\n",
        "        \n",
        "        # (Positional FeedForward Layer) -----------------------------------------------------------\n",
        "        self.y_posff = self.posff_layer(self.y_layer_normed_1)    # (batch_seq, y_word, emb)\n",
        "        \n",
        "        # (Layer Normalization) --------------------------------------------------------------------\n",
        "        self.y_layer_normed_2 = self.posff_layer_norm(self.y_posff)\n",
        "        # layer_norm_X와 positional_feedforward를 통과한 결과를 더해준다.\n",
        "        \n",
        "        return self.y_layer_normed_2   # (batch_seq, y_word, emb)\n",
        "#######################################################################################################################################\n"
      ],
      "metadata": {
        "id": "G8HsUNXNEMkB"
      },
      "execution_count": 15,
      "outputs": []
    },
    {
      "cell_type": "code",
      "source": [
        "!pip install collection \n",
        "!pip install pyperclip"
      ],
      "metadata": {
        "colab": {
          "base_uri": "https://localhost:8080/"
        },
        "id": "150sbzkLKmfm",
        "outputId": "63cbe176-c38d-4db1-9773-52f5714a1bdf"
      },
      "execution_count": 16,
      "outputs": [
        {
          "output_type": "stream",
          "name": "stdout",
          "text": [
            "Looking in indexes: https://pypi.org/simple, https://us-python.pkg.dev/colab-wheels/public/simple/\n",
            "Collecting collection\n",
            "  Downloading collection-0.1.6.tar.gz (5.0 kB)\n",
            "  Preparing metadata (setup.py) ... \u001b[?25l\u001b[?25hdone\n",
            "Building wheels for collected packages: collection\n",
            "  Building wheel for collection (setup.py) ... \u001b[?25l\u001b[?25hdone\n",
            "  Created wheel for collection: filename=collection-0.1.6-py3-none-any.whl size=5116 sha256=96d4ce6d49cfc6096a7dfdb7496285f063a2e06f1d63f62f55863a8eba304265\n",
            "  Stored in directory: /root/.cache/pip/wheels/b8/eb/72/804383af94abbb9ac1893ace85e5620780f0819144486a8bc1\n",
            "Successfully built collection\n",
            "Installing collected packages: collection\n",
            "Successfully installed collection-0.1.6\n",
            "Looking in indexes: https://pypi.org/simple, https://us-python.pkg.dev/colab-wheels/public/simple/\n",
            "Collecting pyperclip\n",
            "  Downloading pyperclip-1.8.2.tar.gz (20 kB)\n",
            "  Preparing metadata (setup.py) ... \u001b[?25l\u001b[?25hdone\n",
            "Building wheels for collected packages: pyperclip\n",
            "  Building wheel for pyperclip (setup.py) ... \u001b[?25l\u001b[?25hdone\n",
            "  Created wheel for pyperclip: filename=pyperclip-1.8.2-py3-none-any.whl size=11135 sha256=fcf807a587e0ca2e6847a15ac7efcae899e15c4219eb26605cda16d56063bd54\n",
            "  Stored in directory: /root/.cache/pip/wheels/0c/09/9e/49e21a6840ef7955b06d47394afef0058f0378c0914e48b8b8\n",
            "Successfully built pyperclip\n",
            "Installing collected packages: pyperclip\n",
            "Successfully installed pyperclip-1.8.2\n"
          ]
        }
      ]
    },
    {
      "cell_type": "code",
      "source": [
        "# Training Setting ########################################################################\n",
        "if torch.cuda.is_available():\n",
        "    device = torch.device(\"cuda:0\")\n",
        "else:\n",
        "    device = torch.device(\"cpu\")\n",
        "print(device)\n",
        "\n",
        "# # customize library ***---------------------\n",
        "\n",
        "class EarlyStopping():\n",
        "    \"\"\"\n",
        "    【 Required Library 】numpy, pandas, matplotlib.pyplot, time, from IPython.display import clear_output\n",
        "     < Initialize(patience=4, optimize='minimize') >\n",
        "      . patience: 1,2,3,4 ...\n",
        "      . optimize: minimize / maximize \n",
        "     \n",
        "     < early_stop(score, save=None, label=None, reference_score=None, reference_save=None, reference_label=None, verbose=0, sleep=0.05, save_all=False) >\n",
        "      (input)\n",
        "       . score: metrics_score\n",
        "       . save: anything that would like to save at optimal point\n",
        "       . label: plot label\n",
        "       \n",
        "       . reference_score: reference metrics score\n",
        "       . reference_save: reference_save value\n",
        "       . reference_label: plot reference_label\n",
        "       \n",
        "       . verbose: 0, 1, 'plot', 'all'\n",
        "       . sleep: when plotting, sleeping time(seconds).\n",
        "       . save_all:\n",
        "     \n",
        "    \"\"\"\n",
        "    def __init__(self, patience=4, optimize='miminize'):\n",
        "        self.patience = np.inf if patience is None else patience\n",
        "        self.optimize = optimize\n",
        "        \n",
        "        self.metrics = []       # (epoch, event, score, save, r_score, r_save)\n",
        "        self.metrics_frame = pd.DataFrame()\n",
        "        self.patience_scores = []\n",
        "        self.optimum = (0, np.inf if 'min' in optimize else -np.inf, '', None, None)    # (epoch, score, save, r_score, r_save)\n",
        "    \n",
        "    def reset_patience_scores(self):\n",
        "        self.patience_scores = []\n",
        "    \n",
        "    def early_stop(self, score, save=None, label=None,\n",
        "                   reference_score=None, reference_save=None, reference_label=None,\n",
        "                   verbose=0, sleep=0, save_all=False):\n",
        "        \n",
        "        result = 'none'\n",
        "        epoch = len(self.metrics)+1\n",
        "        label_score = 'valid_score' if label is None else label\n",
        "        label_r_score = 'train_score' if reference_label is None else reference_label\n",
        "        \n",
        "        if 'min' in self.optimize:\n",
        "            if score < self.optimum[1]:     # optimum\n",
        "                self.patience_scores = []\n",
        "                result = 'optimum'\n",
        "            else:\n",
        "                self.patience_scores.append(score)\n",
        "                if len(self.patience_scores) > self.patience:\n",
        "                    result = 'break'\n",
        "                else:\n",
        "                    result = 'patience'\n",
        "        elif 'max' in self.optimize:\n",
        "            if score > self.optimum[1]:     # optimum\n",
        "                self.patience_scores = []\n",
        "                result = 'optimum'\n",
        "            else:\n",
        "                self.patience_scores.append(score)\n",
        "                if len(self.patience_scores) > self.patience:\n",
        "                    result = 'break'\n",
        "                else:\n",
        "                    result = 'patience'\n",
        "        \n",
        "        # state save\n",
        "        state = (epoch, result, score, save, reference_score, reference_save) if (save_all is True or result == 'optimum') else (epoch, result, score, '', reference_score, '')\n",
        "        self.metrics.append(state)\n",
        "\n",
        "        # update state metrics\n",
        "        if result == 'optimum':\n",
        "            if  self.optimum[0] > 0:\n",
        "                prev_optim_index = self.metrics.index( list(filter(lambda x: x[0]==self.optimum[0], self.metrics))[0] )\n",
        "                if save_all is True:\n",
        "                    self.metrics[prev_optim_index] = tuple( ('none' if ei==1 else element) for ei, element in enumerate(self.metrics[prev_optim_index]) )\n",
        "                else:\n",
        "                    self.metrics[prev_optim_index] = tuple( ('none' if ei==1 else ('' if ei in [3,5] else element) ) for ei, element in enumerate(self.metrics[prev_optim_index]) )\n",
        "            self.optimum = (epoch, score, save, reference_score, reference_save)\n",
        "        \n",
        "        # metrics_frame = pd.concat([self.metrics_frame, pd.Series(state, index=['epoch', 'event', label_score, 'save', 'r_score', 'r_save'], name=len(self.metrics_frame)).to_frame().T], axis=0)\n",
        "        metrics_frame = pd.DataFrame(self.metrics, columns=['epoch', 'event', label_score, 'save', label_r_score, 'r_save'])\n",
        "        metrics_frame['event'] = pd.Categorical(metrics_frame['event'], categories=['none', 'patience', 'break', 'optimum'], ordered=True)\n",
        "        metrics_frame[label_score] = metrics_frame[label_score].astype('float')\n",
        "        metrics_frame[label_r_score] = metrics_frame[label_r_score].astype('float')\n",
        "        \n",
        "        # plot        \n",
        "        if verbose == 'plot' or verbose=='all':\n",
        "            clear_output(wait=True)\n",
        "        self.plot = plt.figure()\n",
        "        \n",
        "        # reference_score\n",
        "        if reference_score is not None:\n",
        "            plt.plot(metrics_frame['epoch'], metrics_frame[label_r_score], 'o-', alpha=0.5, color='orange', label=label_r_score)\n",
        "            \n",
        "        plt.plot(metrics_frame['epoch'], metrics_frame[label_score], alpha=0.5, color='steelblue', label=label_score)\n",
        "        plt.legend(loc='upper right')\n",
        "        \n",
        "        metrics_colors = ['steelblue', 'gold', 'red', 'green']\n",
        "        for me, (mgi, mgv) in enumerate(metrics_frame.groupby('event')):\n",
        "            plt.scatter(mgv['epoch'], mgv[label_score], color=metrics_colors[me])            \n",
        "        for mi, mg in metrics_frame[metrics_frame['event'] != ''].iterrows():\n",
        "            event_name = 'p' if mg['event'] == 'patience' else ('★' if mg['event']=='optimum' else ('break' if mg['event'] == 'break' else ''))\n",
        "            plt.text(mg['epoch'], mg[label_score], event_name)\n",
        "        plt.xlabel('epoch')\n",
        "        plt.ylabel('score')\n",
        "        # plt.yscale('symlog')\n",
        "        if verbose == 'plot' or verbose=='all':\n",
        "            plt.show()\n",
        "            time.sleep(sleep)\n",
        "        else:\n",
        "            plt.close()\n",
        "        \n",
        "        # print state\n",
        "        if (type(verbose)==int and verbose > 1) or verbose=='all':\n",
        "            if (verbose in ['plot', 'all']) and result != 'optimum':\n",
        "                print(f\"(Optimum) epoch: {self.optimum[0]}, {label_score}: {str(self.optimum[1])[:6]}, {label_r_score}: {str(self.optimum[3])[:6]}\")\n",
        "            \n",
        "            if reference_score is not None:\n",
        "                print(f\"epoch: {len(self.metrics)}, {label_score}: {str(score)[:6]}, {label_r_score}: {str(reference_score)[:6]} {f'**{result}' if result != 'none' else ''}\")\n",
        "            else:\n",
        "                print(f\"epoch: {len(self.metrics)}, {label_score}: {str(score)[:6]} {f'**{result}' if result != 'none' else ''}\")\n",
        "        elif verbose == 1:\n",
        "            if result != 'break':\n",
        "                print(epoch, end=' ')\n",
        "            else:\n",
        "                print(epoch, end=' *break\\n')\n",
        "                print(f\"(Optimum) epoch: {self.optimum[0]}, {label_score}: {str(self.optimum[1])[:6]}, {label_r_score}: {str(self.optimum[3])[:6]}\") \n",
        "        \n",
        "        self.metrics_frame = metrics_frame.copy()\n",
        "        return result\n",
        "\n",
        "# # ------------------------------------------\n",
        "import time\n",
        "import copy\n",
        "\n",
        "def epoch_time(start_time, end_time):\n",
        "    elapsed_time = end_time - start_time\n",
        "    elapsed_mins = int(elapsed_time / 60)\n",
        "    elapsed_secs = int(elapsed_time - (elapsed_mins * 60))\n",
        "    return elapsed_mins, elapsed_secs\n",
        "\n",
        "\n",
        "def torch_accuracy_score(dataloader, estimator, device='cpu', verbose=0):\n",
        "    estimator.eval()\n",
        "    with torch.no_grad():\n",
        "        acc_list = []\n",
        "\n",
        "        for batch in dataloader:\n",
        "            batch_X = batch[0].type(torch.long).to(device)\n",
        "            batch_y = batch[1].to(device)\n",
        "            \n",
        "            pred = estimator(batch_X)\n",
        "            pred_cls = torch.argmax(pred, axis=1).to('cpu').detach().numpy()\n",
        "            real_cls = batch_y.to('cpu').detach().numpy()\n",
        "            acc_list.append((pred_cls == real_cls))\n",
        "        acc_array = np.hstack(acc_list)\n",
        "        test_accuracy = acc_array.sum()/len(acc_array)\n",
        "        if verbose > 0:\n",
        "            print(test_accuracy)\n",
        "    return test_accuracy"
      ],
      "metadata": {
        "colab": {
          "base_uri": "https://localhost:8080/"
        },
        "id": "NctTSWz8EMm5",
        "outputId": "b5fa2903-ce9a-4b5b-9517-4e4d51480d89"
      },
      "execution_count": 17,
      "outputs": [
        {
          "output_type": "stream",
          "name": "stdout",
          "text": [
            "cuda:0\n"
          ]
        }
      ]
    },
    {
      "cell_type": "code",
      "source": [
        "# Classification without pre-training ########################################################################\n",
        "print('* Classification without pre-training ----------------------------------------------------------------')\n",
        "gpt_cls = GPT1(vocab_size, GPT1_ClassifierLayer(), n_layers=3).to(device)\n",
        "gpt_cls.downstream()\n",
        "# gpt_cls(cls_sample_X)     # (64, 2)\n",
        "# gpt_cls(cls_sample_X).shape\n",
        "\n",
        "model = copy.deepcopy(gpt_cls)\n",
        "\n",
        "\n",
        "# # model weights parameter initialize (가중치 초기화) ***\n",
        "# def init_weights(model):\n",
        "#     for name, param in model.named_parameters():\n",
        "#         if 'weight' in name:\n",
        "#             torch.nn.init.normal_(param.data, mean=0, std=0.01)\n",
        "#         else:\n",
        "#             torch.nn.init.constant_(param.data, 0)\n",
        "# model.apply(init_weights)\n",
        "\n",
        "\n",
        "es = EarlyStopping(patience=100)\n",
        "loss_function = torch.nn.CrossEntropyLoss()\n",
        "\n",
        "# learning_rate = 0.001\n",
        "learning_rate = 5e-5\n",
        "optimizer = torch.optim.Adam(model.parameters(), lr=learning_rate)\n",
        "epochs = 100\n"
      ],
      "metadata": {
        "colab": {
          "base_uri": "https://localhost:8080/"
        },
        "id": "XWaVl0FBL_mh",
        "outputId": "a7b42114-50e6-4f31-f59b-e5f99bdaae41"
      },
      "execution_count": 18,
      "outputs": [
        {
          "output_type": "stream",
          "name": "stdout",
          "text": [
            "* Classification without pre-training ----------------------------------------------------------------\n"
          ]
        }
      ]
    },
    {
      "cell_type": "code",
      "source": [
        "\n",
        "# training * -------------------------------------------------------------------------------------------------------\n",
        "train_loader = cls_train_loader\n",
        "valid_loader = cls_valid_loader\n",
        "test_loader = cls_test_loader\n",
        "\n",
        "train_losses = []\n",
        "valid_losses = []\n",
        "for e in range(epochs):\n",
        "    start_time = time.time() # 시작 시간 기록\n",
        "    # train_set learning*\n",
        "    model.train()\n",
        "    train_epoch_loss = []\n",
        "    for batch  in train_loader:\n",
        "        batch_X = batch[0].type(torch.long).to(device)\n",
        "        batch_y = batch[1].to(device)\n",
        "        optimizer.zero_grad()                   # wegiht initialize\n",
        "        model(batch_X)                          # forward\n",
        "        pred = model.downstream_output          # predict\n",
        "        loss = loss_function(pred, batch_y)     # loss\n",
        "        loss.backward()                         # backward\n",
        "        \n",
        "        torch.nn.utils.clip_grad_norm_(model.parameters(), 1)    # 기울기(gradient) clipping 진행\n",
        "        # (gradient clipping) https://sanghyu.tistory.com/87\n",
        "        optimizer.step()                        # update_weight\n",
        "\n",
        "        with torch.no_grad():\n",
        "            train_batch_loss = loss.to('cpu').detach().numpy()\n",
        "            train_epoch_loss.append( train_batch_loss )\n",
        "    \n",
        "\n",
        "    # valid_set evaluation *\n",
        "    valid_epoch_loss = []\n",
        "    with torch.no_grad():\n",
        "        model.eval() \n",
        "        for batch in valid_loader:\n",
        "            batch_X = batch[0].to(device)\n",
        "            batch_y = batch[1].to(device)\n",
        "            model(batch_X)                          # forward\n",
        "            pred = model.downstream_output          # predict\n",
        "            loss = loss_function(pred, batch_y)     # loss\n",
        "            valid_batch_loss = loss.to('cpu').detach().numpy()\n",
        "            valid_epoch_loss.append( valid_batch_loss )\n",
        "\n",
        "    with torch.no_grad():\n",
        "        train_loss = np.mean(train_epoch_loss)\n",
        "        valid_loss = np.mean(valid_epoch_loss)\n",
        "        train_losses.append(train_loss)\n",
        "        valid_losses.append(valid_loss)\n",
        "\n",
        "        end_time = time.time() # 종료 시간 기록\n",
        "        epoch_mins, epoch_secs = epoch_time(start_time, end_time)\n",
        "        # print(f'Epoch: {e + 1:02} | Time: {epoch_mins}m {epoch_secs}s')\n",
        "        # print(f'\\tTrain Loss: {train_loss:.3f} | Train PPL: {np.exp(train_loss):.3f}')\n",
        "        # print(f'\\tValidation Loss: {valid_loss:.3f} | Validation PPL: {np.exp(valid_loss):.3f}')\n",
        "\n",
        "        # # customize library ***---------------------\n",
        "        early_stop = es.early_stop(score=valid_loss, reference_score=train_loss, save=model.state_dict(), verbose=2)\n",
        "        if early_stop == 'break':\n",
        "            break\n",
        "        # # ------------------------------------------\n",
        "# --------------------------------------------------------------------------------------------------------------------"
      ],
      "metadata": {
        "colab": {
          "base_uri": "https://localhost:8080/"
        },
        "id": "mIA9IuSqMQKH",
        "outputId": "14546b1b-cea3-499d-ddbf-854910fde098"
      },
      "execution_count": 19,
      "outputs": [
        {
          "output_type": "stream",
          "name": "stdout",
          "text": [
            "epoch: 1, valid_score: 0.5991, train_score: 0.6706 **optimum\n",
            "epoch: 2, valid_score: 0.5583, train_score: 0.5843 **optimum\n",
            "epoch: 3, valid_score: 0.5372, train_score: 0.5520 **optimum\n",
            "epoch: 4, valid_score: 0.5315, train_score: 0.5347 **optimum\n",
            "epoch: 5, valid_score: 0.5376, train_score: 0.5221 **patience\n",
            "epoch: 6, valid_score: 0.5178, train_score: 0.5132 **optimum\n",
            "epoch: 7, valid_score: 0.5173, train_score: 0.5068 **optimum\n",
            "epoch: 8, valid_score: 0.5139, train_score: 0.4996 **optimum\n",
            "epoch: 9, valid_score: 0.5122, train_score: 0.4961 **optimum\n",
            "epoch: 10, valid_score: 0.5036, train_score: 0.4927 **optimum\n",
            "epoch: 11, valid_score: 0.5055, train_score: 0.4887 **patience\n",
            "epoch: 12, valid_score: 0.5104, train_score: 0.4860 **patience\n",
            "epoch: 13, valid_score: 0.5064, train_score: 0.4829 **patience\n",
            "epoch: 14, valid_score: 0.5040, train_score: 0.4796 **patience\n",
            "epoch: 15, valid_score: 0.5074, train_score: 0.4757 **patience\n",
            "epoch: 16, valid_score: 0.5087, train_score: 0.4751 **patience\n",
            "epoch: 17, valid_score: 0.5036, train_score: 0.4721 **optimum\n",
            "epoch: 18, valid_score: 0.5032, train_score: 0.4693 **optimum\n",
            "epoch: 19, valid_score: 0.4961, train_score: 0.4649 **optimum\n",
            "epoch: 20, valid_score: 0.4990, train_score: 0.4663 **patience\n",
            "epoch: 21, valid_score: 0.5028, train_score: 0.4647 **patience\n",
            "epoch: 22, valid_score: 0.4994, train_score: 0.4604 **patience\n",
            "epoch: 23, valid_score: 0.5001, train_score: 0.4566 **patience\n",
            "epoch: 24, valid_score: 0.5002, train_score: 0.4593 **patience\n",
            "epoch: 25, valid_score: 0.4931, train_score: 0.4550 **optimum\n",
            "epoch: 26, valid_score: 0.4986, train_score: 0.4527 **patience\n",
            "epoch: 27, valid_score: 0.4939, train_score: 0.4530 **patience\n",
            "epoch: 28, valid_score: 0.4999, train_score: 0.4486 **patience\n",
            "epoch: 29, valid_score: 0.4969, train_score: 0.4484 **patience\n",
            "epoch: 30, valid_score: 0.5030, train_score: 0.4439 **patience\n",
            "epoch: 31, valid_score: 0.4949, train_score: 0.4472 **patience\n",
            "epoch: 32, valid_score: 0.4934, train_score: 0.4444 **patience\n",
            "epoch: 33, valid_score: 0.4978, train_score: 0.4424 **patience\n",
            "epoch: 34, valid_score: 0.4946, train_score: 0.4439 **patience\n",
            "epoch: 35, valid_score: 0.5002, train_score: 0.4418 **patience\n",
            "epoch: 36, valid_score: 0.4933, train_score: 0.4375 **patience\n",
            "epoch: 37, valid_score: 0.5001, train_score: 0.4391 **patience\n",
            "epoch: 38, valid_score: 0.5017, train_score: 0.4372 **patience\n",
            "epoch: 39, valid_score: 0.4978, train_score: 0.4355 **patience\n",
            "epoch: 40, valid_score: 0.5025, train_score: 0.4320 **patience\n",
            "epoch: 41, valid_score: 0.4983, train_score: 0.4359 **patience\n",
            "epoch: 42, valid_score: 0.4963, train_score: 0.4331 **patience\n",
            "epoch: 43, valid_score: 0.4924, train_score: 0.4303 **optimum\n",
            "epoch: 44, valid_score: 0.4971, train_score: 0.4328 **patience\n",
            "epoch: 45, valid_score: 0.4961, train_score: 0.4288 **patience\n",
            "epoch: 46, valid_score: 0.5056, train_score: 0.4267 **patience\n",
            "epoch: 47, valid_score: 0.5049, train_score: 0.4285 **patience\n",
            "epoch: 48, valid_score: 0.4971, train_score: 0.4273 **patience\n",
            "epoch: 49, valid_score: 0.5036, train_score: 0.4253 **patience\n",
            "epoch: 50, valid_score: 0.4967, train_score: 0.4266 **patience\n",
            "epoch: 51, valid_score: 0.4945, train_score: 0.4221 **patience\n",
            "epoch: 52, valid_score: 0.5048, train_score: 0.4232 **patience\n",
            "epoch: 53, valid_score: 0.4944, train_score: 0.4231 **patience\n",
            "epoch: 54, valid_score: 0.4956, train_score: 0.4228 **patience\n",
            "epoch: 55, valid_score: 0.5003, train_score: 0.4223 **patience\n",
            "epoch: 56, valid_score: 0.4984, train_score: 0.4256 **patience\n",
            "epoch: 57, valid_score: 0.4996, train_score: 0.4238 **patience\n",
            "epoch: 58, valid_score: 0.5002, train_score: 0.4226 **patience\n",
            "epoch: 59, valid_score: 0.4946, train_score: 0.4200 **patience\n",
            "epoch: 60, valid_score: 0.4927, train_score: 0.4198 **patience\n",
            "epoch: 61, valid_score: 0.4974, train_score: 0.4169 **patience\n",
            "epoch: 62, valid_score: 0.4991, train_score: 0.4179 **patience\n",
            "epoch: 63, valid_score: 0.4993, train_score: 0.4157 **patience\n",
            "epoch: 64, valid_score: 0.4988, train_score: 0.4156 **patience\n",
            "epoch: 65, valid_score: 0.4929, train_score: 0.4154 **patience\n",
            "epoch: 66, valid_score: 0.4991, train_score: 0.4148 **patience\n",
            "epoch: 67, valid_score: 0.4904, train_score: 0.4145 **optimum\n",
            "epoch: 68, valid_score: 0.5004, train_score: 0.4118 **patience\n",
            "epoch: 69, valid_score: 0.5002, train_score: 0.4149 **patience\n",
            "epoch: 70, valid_score: 0.4960, train_score: 0.4115 **patience\n",
            "epoch: 71, valid_score: 0.4922, train_score: 0.4123 **patience\n",
            "epoch: 72, valid_score: 0.4939, train_score: 0.4123 **patience\n",
            "epoch: 73, valid_score: 0.4940, train_score: 0.4100 **patience\n",
            "epoch: 74, valid_score: 0.4976, train_score: 0.4083 **patience\n",
            "epoch: 75, valid_score: 0.4922, train_score: 0.4093 **patience\n",
            "epoch: 76, valid_score: 0.4912, train_score: 0.4078 **patience\n",
            "epoch: 77, valid_score: 0.4983, train_score: 0.4079 **patience\n",
            "epoch: 78, valid_score: 0.5005, train_score: 0.4045 **patience\n",
            "epoch: 79, valid_score: 0.5003, train_score: 0.4065 **patience\n",
            "epoch: 80, valid_score: 0.5031, train_score: 0.4091 **patience\n",
            "epoch: 81, valid_score: 0.5001, train_score: 0.4102 **patience\n",
            "epoch: 82, valid_score: 0.4953, train_score: 0.4071 **patience\n",
            "epoch: 83, valid_score: 0.4962, train_score: 0.4045 **patience\n",
            "epoch: 84, valid_score: 0.5000, train_score: 0.4064 **patience\n",
            "epoch: 85, valid_score: 0.4968, train_score: 0.4041 **patience\n",
            "epoch: 86, valid_score: 0.5015, train_score: 0.4017 **patience\n",
            "epoch: 87, valid_score: 0.4947, train_score: 0.4025 **patience\n",
            "epoch: 88, valid_score: 0.5006, train_score: 0.4007 **patience\n",
            "epoch: 89, valid_score: 0.5000, train_score: 0.4008 **patience\n",
            "epoch: 90, valid_score: 0.5075, train_score: 0.4006 **patience\n",
            "epoch: 91, valid_score: 0.4988, train_score: 0.4002 **patience\n",
            "epoch: 92, valid_score: 0.4951, train_score: 0.4000 **patience\n",
            "epoch: 93, valid_score: 0.4966, train_score: 0.3997 **patience\n",
            "epoch: 94, valid_score: 0.4960, train_score: 0.4003 **patience\n",
            "epoch: 95, valid_score: 0.4930, train_score: 0.3988 **patience\n",
            "epoch: 96, valid_score: 0.4948, train_score: 0.3997 **patience\n",
            "epoch: 97, valid_score: 0.5007, train_score: 0.3989 **patience\n",
            "epoch: 98, valid_score: 0.5012, train_score: 0.3987 **patience\n",
            "epoch: 99, valid_score: 0.5086, train_score: 0.3981 **patience\n",
            "epoch: 100, valid_score: 0.5046, train_score: 0.3984 **patience\n"
          ]
        }
      ]
    },
    {
      "cell_type": "code",
      "source": [
        "# customize library ***---------------------\n",
        "es.plot     # early_stopping plot\n",
        "# ------------------------------------------"
      ],
      "metadata": {
        "colab": {
          "base_uri": "https://localhost:8080/",
          "height": 449
        },
        "id": "kCglzcHbMQRn",
        "outputId": "a9401344-863d-416c-9d7e-9e9adefef137"
      },
      "execution_count": 20,
      "outputs": [
        {
          "output_type": "execute_result",
          "data": {
            "text/plain": [
              "<Figure size 640x480 with 1 Axes>"
            ],
            "image/png": "[encoded data removed]"
          },
          "metadata": {},
          "execution_count": 20
        }
      ]
    },
    {
      "cell_type": "code",
      "source": [
        "gpt_cls.load_state_dict(es.optimum[2])    # optimum model (load weights)"
      ],
      "metadata": {
        "colab": {
          "base_uri": "https://localhost:8080/"
        },
        "id": "zwYp9BoaMQZH",
        "outputId": "5df330c5-051a-4479-aa98-8913283110a8"
      },
      "execution_count": 21,
      "outputs": [
        {
          "output_type": "execute_result",
          "data": {
            "text/plain": [
              "<All keys matched successfully>"
            ]
          },
          "metadata": {},
          "execution_count": 21
        }
      ]
    },
    {
      "cell_type": "code",
      "source": [
        "# Performance Evaluate (Accuracy_score)\n",
        "torch_accuracy_score(cls_valid_loader, gpt_cls, device)"
      ],
      "metadata": {
        "colab": {
          "base_uri": "https://localhost:8080/"
        },
        "id": "JSM9O7s6MRFX",
        "outputId": "259ec42c-adae-4d98-f562-7b858fefbff0"
      },
      "execution_count": 22,
      "outputs": [
        {
          "output_type": "execute_result",
          "data": {
            "text/plain": [
              "0.8053333333333333"
            ]
          },
          "metadata": {},
          "execution_count": 22
        }
      ]
    },
    {
      "cell_type": "code",
      "source": [],
      "metadata": {
        "id": "8RylpfQXMvNW"
      },
      "execution_count": 22,
      "outputs": []
    },
    {
      "cell_type": "code",
      "source": [
        "# Classification with pre-training ########################################################################"
      ],
      "metadata": {
        "id": "eyEiNz9FMvbV"
      },
      "execution_count": 23,
      "outputs": []
    },
    {
      "cell_type": "code",
      "source": [
        "\n",
        "# Pre-training ★ #########\n",
        "print('* Classification with pre-training : pre-training ----------------------------------------------------------------')\n",
        "# sample_X.shape    # (64, 69)\n",
        "gpt_pretain = GPT1(vocab_size, n_layers=3).to(device)\n",
        "gpt_pretain.pretrain()\n",
        "# gpt_pretain(cls_sample_X)  # (64, 69, 4383)\n",
        "# gpt_pretain(cls_sample_X).shape\n",
        "\n",
        "model = copy.deepcopy(gpt_pretain)\n",
        "\n",
        "# # model weights parameter initialize (가중치 초기화) ***\n",
        "# def init_weights(model):\n",
        "#     for name, param in model.named_parameters():\n",
        "#         if 'weight' in name:\n",
        "#             torch.nn.init.normal_(param.data, mean=0, std=0.01)\n",
        "#         else:\n",
        "#             torch.nn.init.constant_(param.data, 0)\n",
        "# model.apply(init_weights)\n",
        "\n",
        "es = EarlyStopping(patience=100)\n",
        "\n",
        "# loss_function = torch.nn.CrossEntropyLoss()     # ignore_index=trg_pad_idx\n",
        "learning_rate = 5e-5\n",
        "loss_function = torch.nn.CrossEntropyLoss(ignore_index=0)\n",
        "optimizer = torch.optim.Adam(model.parameters(), lr=learning_rate)\n",
        "epochs = 100\n"
      ],
      "metadata": {
        "colab": {
          "base_uri": "https://localhost:8080/"
        },
        "id": "sKo8jes1MvyF",
        "outputId": "cdb924a8-42dc-4e87-903e-d2223f6811e9"
      },
      "execution_count": 24,
      "outputs": [
        {
          "output_type": "stream",
          "name": "stdout",
          "text": [
            "* Classification with pre-training : pre-training ----------------------------------------------------------------\n"
          ]
        }
      ]
    },
    {
      "cell_type": "code",
      "source": [
        "\n",
        "# training * -------------------------------------------------------------------------------------------------------\n",
        "train_loader = pretrain_train_loader\n",
        "valid_loader = pretrain_valid_loader\n",
        "test_loader = pretrain_test_loader\n",
        "\n",
        "\n",
        "train_losses = []\n",
        "valid_losses = []\n",
        "for e in range(epochs):\n",
        "    start_time = time.time() # 시작 시간 기록\n",
        "    # train_set learning*\n",
        "    model.train()\n",
        "    train_epoch_loss = []\n",
        "    for batch  in train_loader:\n",
        "        batch_X = batch[0].type(torch.long).to(device)\n",
        "        optimizer.zero_grad()                   # wegiht initialize\n",
        "        model(batch_X)                          # forward\n",
        "        pred_eval = model.pretrain_output[:,:-1,:].reshape(-1, vocab_size)  # self-supervised predict\n",
        "        real_eval = batch_X[:,1:].reshape(-1)\n",
        "         \n",
        "        loss = loss_function(pred_eval, real_eval)     # loss\n",
        "        loss.backward()                         # backward\n",
        "        \n",
        "        torch.nn.utils.clip_grad_norm_(model.parameters(), 1)    # 기울기(gradient) clipping 진행\n",
        "        # (gradient clipping) https://sanghyu.tistory.com/87\n",
        "        optimizer.step()                        # update_weight\n",
        "\n",
        "        with torch.no_grad():\n",
        "            train_batch_loss = loss.to('cpu').detach().numpy()\n",
        "            train_epoch_loss.append( train_batch_loss )\n",
        "    \n",
        "\n",
        "    # valid_set evaluation *\n",
        "    valid_epoch_loss = []\n",
        "    with torch.no_grad():\n",
        "        model.eval() \n",
        "        for batch in valid_loader:\n",
        "            batch_X = batch[0].type(torch.long).to(device)\n",
        "            model(batch_X)                   # forward\n",
        "            pred_eval = model.pretrain_output[:,:-1,:].reshape(-1, vocab_size)  # self-supervised predict\n",
        "            real_eval = batch_X[:,1:].reshape(-1)\n",
        "\n",
        "            loss = loss_function(pred_eval, real_eval)     # loss\n",
        "            valid_batch_loss = loss.to('cpu').detach().numpy()\n",
        "            valid_epoch_loss.append( valid_batch_loss )\n",
        "\n",
        "    with torch.no_grad():\n",
        "        train_loss = np.mean(train_epoch_loss)\n",
        "        valid_loss = np.mean(valid_epoch_loss)\n",
        "        train_losses.append(train_loss)\n",
        "        valid_losses.append(valid_loss)\n",
        "\n",
        "        end_time = time.time() # 종료 시간 기록\n",
        "        epoch_mins, epoch_secs = epoch_time(start_time, end_time)\n",
        "        # print(f'Epoch: {e + 1:02} | Time: {epoch_mins}m {epoch_secs}s')\n",
        "        # print(f'\\tTrain Loss: {train_loss:.3f} | Train PPL: {np.exp(train_loss):.3f}')\n",
        "        # print(f'\\tValidation Loss: {valid_loss:.3f} | Validation PPL: {np.exp(valid_loss):.3f}')\n",
        "\n",
        "        # # customize library ***---------------------\n",
        "        early_stop = es.early_stop(score=valid_loss, reference_score=train_loss, save=model.state_dict(), verbose=2)\n",
        "        if early_stop == 'break':\n",
        "            break\n",
        "        # # ------------------------------------------\n",
        "# --------------------------------------------------------------------------------------------------------------------\n"
      ],
      "metadata": {
        "colab": {
          "base_uri": "https://localhost:8080/"
        },
        "id": "bdSJJR5GMv7N",
        "outputId": "eeccd330-a171-4588-dd55-d87f2e213178"
      },
      "execution_count": 25,
      "outputs": [
        {
          "output_type": "stream",
          "name": "stdout",
          "text": [
            "epoch: 1, valid_score: 9.9407, train_score: 14.807 **optimum\n",
            "epoch: 2, valid_score: 8.2686, train_score: 7.7362 **optimum\n",
            "epoch: 3, valid_score: 7.9854, train_score: 6.1326 **optimum\n",
            "epoch: 4, valid_score: 7.2185, train_score: 5.3986 **optimum\n",
            "epoch: 5, valid_score: 7.1935, train_score: 4.9716 **optimum\n",
            "epoch: 6, valid_score: 6.6975, train_score: 4.7053 **optimum\n",
            "epoch: 7, valid_score: 6.7817, train_score: 4.5124 **patience\n",
            "epoch: 8, valid_score: 6.5099, train_score: 4.3659 **optimum\n",
            "epoch: 9, valid_score: 6.1280, train_score: 4.2427 **optimum\n",
            "epoch: 10, valid_score: 6.1915, train_score: 4.1368 **patience\n",
            "epoch: 11, valid_score: 5.8248, train_score: 4.041 **optimum\n",
            "epoch: 12, valid_score: 5.6502, train_score: 3.9563 **optimum\n",
            "epoch: 13, valid_score: 5.3264, train_score: 3.8704 **optimum\n",
            "epoch: 14, valid_score: 5.1459, train_score: 3.7831 **optimum\n",
            "epoch: 15, valid_score: 4.7571, train_score: 3.6811 **optimum\n",
            "epoch: 16, valid_score: 4.4236, train_score: 3.5595 **optimum\n",
            "epoch: 17, valid_score: 4.1018, train_score: 3.4161 **optimum\n",
            "epoch: 18, valid_score: 3.6785, train_score: 3.2561 **optimum\n",
            "epoch: 19, valid_score: 3.2493, train_score: 3.0805 **optimum\n",
            "epoch: 20, valid_score: 2.9265, train_score: 2.8995 **optimum\n",
            "epoch: 21, valid_score: 2.6031, train_score: 2.7296 **optimum\n",
            "epoch: 22, valid_score: 2.3075, train_score: 2.5676 **optimum\n",
            "epoch: 23, valid_score: 2.0907, train_score: 2.4210 **optimum\n",
            "epoch: 24, valid_score: 1.8772, train_score: 2.2955 **optimum\n",
            "epoch: 25, valid_score: 1.7503, train_score: 2.1863 **optimum\n",
            "epoch: 26, valid_score: 1.6440, train_score: 2.0883 **optimum\n",
            "epoch: 27, valid_score: 1.5462, train_score: 2.0057 **optimum\n",
            "epoch: 28, valid_score: 1.5038, train_score: 1.9321 **optimum\n",
            "epoch: 29, valid_score: 1.4612, train_score: 1.8654 **optimum\n",
            "epoch: 30, valid_score: 1.4428, train_score: 1.8004 **optimum\n",
            "epoch: 31, valid_score: 1.4008, train_score: 1.7455 **optimum\n",
            "epoch: 32, valid_score: 1.3558, train_score: 1.6961 **optimum\n",
            "epoch: 33, valid_score: 1.3619, train_score: 1.6467 **patience\n",
            "epoch: 34, valid_score: 1.3057, train_score: 1.6068 **optimum\n",
            "epoch: 35, valid_score: 1.2901, train_score: 1.5634 **optimum\n",
            "epoch: 36, valid_score: 1.3121, train_score: 1.5280 **patience\n",
            "epoch: 37, valid_score: 1.2296, train_score: 1.4917 **optimum\n",
            "epoch: 38, valid_score: 1.1536, train_score: 1.4570 **optimum\n",
            "epoch: 39, valid_score: 1.1911, train_score: 1.4262 **patience\n",
            "epoch: 40, valid_score: 1.1001, train_score: 1.3985 **optimum\n",
            "epoch: 41, valid_score: 1.1482, train_score: 1.3728 **patience\n",
            "epoch: 42, valid_score: 1.0987, train_score: 1.3481 **optimum\n",
            "epoch: 43, valid_score: 1.0143, train_score: 1.3189 **optimum\n",
            "epoch: 44, valid_score: 1.0537, train_score: 1.2964 **patience\n",
            "epoch: 45, valid_score: 1.0047, train_score: 1.2783 **optimum\n",
            "epoch: 46, valid_score: 1.0338, train_score: 1.2569 **patience\n",
            "epoch: 47, valid_score: 0.9289, train_score: 1.2356 **optimum\n",
            "epoch: 48, valid_score: 0.9725, train_score: 1.2191 **patience\n",
            "epoch: 49, valid_score: 0.8920, train_score: 1.2012 **optimum\n",
            "epoch: 50, valid_score: 0.9279, train_score: 1.1845 **patience\n",
            "epoch: 51, valid_score: 0.9106, train_score: 1.1658 **patience\n",
            "epoch: 52, valid_score: 0.9629, train_score: 1.1505 **patience\n",
            "epoch: 53, valid_score: 1.0826, train_score: 1.1351 **patience\n",
            "epoch: 54, valid_score: 0.9821, train_score: 1.1221 **patience\n",
            "epoch: 55, valid_score: 0.9892, train_score: 1.1042 **patience\n",
            "epoch: 56, valid_score: 1.0814, train_score: 1.0954 **patience\n",
            "epoch: 57, valid_score: 1.0063, train_score: 1.0777 **patience\n",
            "epoch: 58, valid_score: 1.0508, train_score: 1.0701 **patience\n",
            "epoch: 59, valid_score: 0.9732, train_score: 1.0559 **patience\n",
            "epoch: 60, valid_score: 0.9881, train_score: 1.0457 **patience\n",
            "epoch: 61, valid_score: 0.9899, train_score: 1.0355 **patience\n",
            "epoch: 62, valid_score: 1.0200, train_score: 1.0235 **patience\n",
            "epoch: 63, valid_score: 1.0576, train_score: 1.0150 **patience\n",
            "epoch: 64, valid_score: 0.9853, train_score: 1.0031 **patience\n",
            "epoch: 65, valid_score: 0.9161, train_score: 0.9954 **patience\n",
            "epoch: 66, valid_score: 0.9324, train_score: 0.9867 **patience\n",
            "epoch: 67, valid_score: 0.9271, train_score: 0.9774 **patience\n",
            "epoch: 68, valid_score: 1.0008, train_score: 0.9731 **patience\n",
            "epoch: 69, valid_score: 0.8862, train_score: 0.9628 **optimum\n",
            "epoch: 70, valid_score: 0.9016, train_score: 0.9496 **patience\n",
            "epoch: 71, valid_score: 0.8192, train_score: 0.9383 **optimum\n",
            "epoch: 72, valid_score: 0.8322, train_score: 0.9355 **patience\n",
            "epoch: 73, valid_score: 0.8483, train_score: 0.9295 **patience\n",
            "epoch: 74, valid_score: 0.8676, train_score: 0.9199 **patience\n",
            "epoch: 75, valid_score: 0.8124, train_score: 0.9133 **optimum\n",
            "epoch: 76, valid_score: 0.8862, train_score: 0.9071 **patience\n",
            "epoch: 77, valid_score: 0.8780, train_score: 0.8992 **patience\n",
            "epoch: 78, valid_score: 0.8395, train_score: 0.8941 **patience\n",
            "epoch: 79, valid_score: 0.8486, train_score: 0.8888 **patience\n",
            "epoch: 80, valid_score: 0.8624, train_score: 0.8822 **patience\n",
            "epoch: 81, valid_score: 0.8063, train_score: 0.8722 **optimum\n",
            "epoch: 82, valid_score: 0.8074, train_score: 0.8700 **patience\n",
            "epoch: 83, valid_score: 0.8572, train_score: 0.8661 **patience\n",
            "epoch: 84, valid_score: 0.8094, train_score: 0.8592 **patience\n",
            "epoch: 85, valid_score: 0.8540, train_score: 0.8531 **patience\n",
            "epoch: 86, valid_score: 0.8118, train_score: 0.8483 **patience\n",
            "epoch: 87, valid_score: 0.8285, train_score: 0.8417 **patience\n",
            "epoch: 88, valid_score: 0.7709, train_score: 0.8374 **optimum\n",
            "epoch: 89, valid_score: 0.8315, train_score: 0.8322 **patience\n",
            "epoch: 90, valid_score: 0.8205, train_score: 0.8272 **patience\n",
            "epoch: 91, valid_score: 0.7493, train_score: 0.8219 **optimum\n",
            "epoch: 92, valid_score: 0.8428, train_score: 0.8173 **patience\n",
            "epoch: 93, valid_score: 0.8425, train_score: 0.8141 **patience\n",
            "epoch: 94, valid_score: 0.8283, train_score: 0.8107 **patience\n",
            "epoch: 95, valid_score: 0.7709, train_score: 0.8061 **patience\n",
            "epoch: 96, valid_score: 0.7109, train_score: 0.8011 **optimum\n",
            "epoch: 97, valid_score: 0.7063, train_score: 0.7954 **optimum\n",
            "epoch: 98, valid_score: 0.8189, train_score: 0.7905 **patience\n",
            "epoch: 99, valid_score: 0.7615, train_score: 0.7848 **patience\n",
            "epoch: 100, valid_score: 0.7858, train_score: 0.7814 **patience\n"
          ]
        }
      ]
    },
    {
      "cell_type": "code",
      "source": [
        "# customize library ***---------------------\n",
        "es.plot     # early_stopping plot\n",
        "# ------------------------------------------"
      ],
      "metadata": {
        "colab": {
          "base_uri": "https://localhost:8080/",
          "height": 449
        },
        "id": "qrzbn30uMwEl",
        "outputId": "3781bdd2-07bb-4624-dcb6-ca840cfdd5ac"
      },
      "execution_count": 26,
      "outputs": [
        {
          "output_type": "execute_result",
          "data": {
            "text/plain": [
              "<Figure size 640x480 with 1 Axes>"
            ],
            "image/png": "[encoded data removed]"
          },
          "metadata": {},
          "execution_count": 26
        }
      ]
    },
    {
      "cell_type": "code",
      "source": [
        "gpt_pretain.load_state_dict(es.optimum[2])    # optimum model (load weights)"
      ],
      "metadata": {
        "colab": {
          "base_uri": "https://localhost:8080/"
        },
        "id": "s6bEj3dzMwNN",
        "outputId": "bec8a00b-335f-4dbb-8e50-41592cd71b37"
      },
      "execution_count": 27,
      "outputs": [
        {
          "output_type": "execute_result",
          "data": {
            "text/plain": [
              "<All keys matched successfully>"
            ]
          },
          "metadata": {},
          "execution_count": 27
        }
      ]
    },
    {
      "cell_type": "code",
      "source": [],
      "metadata": {
        "id": "_MtRFtEKMwVl"
      },
      "execution_count": 27,
      "outputs": []
    },
    {
      "cell_type": "code",
      "source": [
        "# Transfer Learning & Fine-Tunning for Classification ★ #########################################################\n",
        "print('* Classification with pre-training : fine-tunning (classification downstream) ----------------------------')\n",
        "\n",
        "gpt_cls_with_pretrain = GPT1(vocab_size, GPT1_ClassifierLayer(), n_layers=3).to(device)\n",
        "gpt_cls_with_pretrain.fine_tunning()\n",
        "# gpt_cls_with_pretrain(cls_sample_X)       # (64, 25, 2160), (64, 2)\n",
        "\n",
        "# parameter transfer ★★★\n",
        "gpt_cls_with_pretrain.gpt_decoder.load_state_dict(gpt_pretain.gpt_decoder.state_dict())\n",
        "\n",
        "\n",
        "model = copy.deepcopy(gpt_cls_with_pretrain)\n",
        "\n",
        "# # model weights parameter initialize (가중치 초기화) ***\n",
        "# def init_weights(model):\n",
        "#     for name, param in model.named_parameters():\n",
        "#         if 'weight' in name:\n",
        "#             torch.nn.init.normal_(param.data, mean=0, std=0.01)\n",
        "#         else:\n",
        "#             torch.nn.init.constant_(param.data, 0)\n",
        "# model.apply(init_weights)\n",
        "\n",
        "\n",
        "es = EarlyStopping(patience=100)\n",
        "loss_function = torch.nn.CrossEntropyLoss()\n",
        "\n",
        "# learning_rate = 0.001\n",
        "learning_rate = 5e-5\n",
        "optimizer = torch.optim.Adam(model.parameters(), lr=learning_rate)\n",
        "epochs = 100\n",
        "\n",
        "\n",
        "lamb = 0.5\n"
      ],
      "metadata": {
        "colab": {
          "base_uri": "https://localhost:8080/"
        },
        "id": "Pbk_Z4T_MwdW",
        "outputId": "be00eead-1d03-4b76-e1aa-6689e5e7fad7"
      },
      "execution_count": 28,
      "outputs": [
        {
          "output_type": "stream",
          "name": "stdout",
          "text": [
            "* Classification with pre-training : fine-tunning (classification downstream) ----------------------------\n"
          ]
        }
      ]
    },
    {
      "cell_type": "code",
      "source": [
        "\n",
        "# training * -------------------------------------------------------------------------------------------------------\n",
        "train_loader = cls_train_loader\n",
        "valid_loader = cls_valid_loader\n",
        "test_loader = cls_test_loader\n",
        "\n",
        "train_losses = []\n",
        "valid_losses = []\n",
        "for e in range(epochs):\n",
        "    start_time = time.time() # 시작 시간 기록\n",
        "    # train_set learning*\n",
        "    model.train()\n",
        "    train_epoch_loss = []\n",
        "    for ei, batch  in enumerate(train_loader):\n",
        "        batch_X = batch[0].type(torch.long).to(device)\n",
        "        batch_y = batch[1].to(device)\n",
        "        \n",
        "        optimizer.zero_grad()                   # wegiht initialize\n",
        "        pred_pretrain, pred_cls = model(batch_X)                   # forward\n",
        "        # loss_function for GPT fine-tunning ----------------------------------------\n",
        "        # Loss_L1\n",
        "        pretrain_pred_eval = pred_pretrain[:,:-1,:].reshape(-1, vocab_size)\n",
        "        pretrain_real_eval = batch_X[:,1:].reshape(-1)\n",
        "        loss_L1 = loss_function(pretrain_pred_eval, pretrain_real_eval)     # loss\n",
        "\n",
        "        # Loss_L2\n",
        "        loss_L2 = loss_function(pred_cls, batch_y)     # loss\n",
        "\n",
        "        # Loss = L2 + λ·L1\n",
        "        loss = loss_L2 + lamb * loss_L1\n",
        "        loss.backward()                         # backward\n",
        "        # ------------------------------------------------------------------------------\n",
        "        torch.nn.utils.clip_grad_norm_(model.parameters(), 1)    # 기울기(gradient) clipping 진행\n",
        "        # (gradient clipping) https://sanghyu.tistory.com/87\n",
        "        optimizer.step()                        # update_weight\n",
        "\n",
        "        with torch.no_grad():\n",
        "            train_batch_loss = loss.to('cpu').detach().numpy()\n",
        "            train_epoch_loss.append( train_batch_loss )\n",
        "\n",
        "    # valid_set evaluation *\n",
        "    valid_epoch_loss = []\n",
        "    with torch.no_grad():\n",
        "        model.eval() \n",
        "        for batch in valid_loader:\n",
        "            batch_X = batch[0].type(torch.long).to(device)\n",
        "            batch_y = batch[1].to(device)\n",
        "            \n",
        "            pred_pretrain, pred_cls = model(batch_X)                   # forward\n",
        "            # loss_function for GPT fine-tunning ----------------------------------------\n",
        "            # Loss_L1\n",
        "            pretrain_pred_eval = pred_pretrain[:,:-1,:].reshape(-1, vocab_size)\n",
        "            pretrain_real_eval = batch_X[:,1:].reshape(-1)\n",
        "            loss_L1 = loss_function(pretrain_pred_eval, pretrain_real_eval)     # loss\n",
        "\n",
        "            # Loss_L2\n",
        "            loss_L2 = loss_function(pred_cls, batch_y)     # loss\n",
        "\n",
        "            # Loss = L2 + λ·L1\n",
        "            loss = loss_L2 + lamb * loss_L1\n",
        "            # ------------------------------------------------------------------------------\n",
        "            valid_batch_loss = loss.to('cpu').detach().numpy()\n",
        "            valid_epoch_loss.append( valid_batch_loss )\n",
        "\n",
        "    with torch.no_grad():\n",
        "        train_loss = np.mean(train_epoch_loss)\n",
        "        valid_loss = np.mean(valid_epoch_loss)\n",
        "        train_losses.append(train_loss)\n",
        "        valid_losses.append(valid_loss)\n",
        "\n",
        "        end_time = time.time() # 종료 시간 기록\n",
        "        epoch_mins, epoch_secs = epoch_time(start_time, end_time)\n",
        "        # print(f'Epoch: {e + 1:02} | Time: {epoch_mins}m {epoch_secs}s')\n",
        "        # print(f'\\tTrain Loss: {train_loss:.3f} | Train PPL: {np.exp(train_loss):.3f}')\n",
        "        # print(f'\\tValidation Loss: {valid_loss:.3f} | Validation PPL: {np.exp(valid_loss):.3f}')\n",
        "\n",
        "        # # customize library ***---------------------\n",
        "        early_stop = es.early_stop(score=valid_loss, reference_score=train_loss, save=model.state_dict(), verbose=2)\n",
        "        if early_stop == 'break':\n",
        "            break\n",
        "        # # ------------------------------------------\n",
        "# --------------------------------------------------------------------------------------------------------------------\n"
      ],
      "metadata": {
        "id": "QN6325AeMwld",
        "colab": {
          "base_uri": "https://localhost:8080/"
        },
        "outputId": "eb2a1412-2e96-44c2-a59f-a4233dcbef3a"
      },
      "execution_count": 29,
      "outputs": [
        {
          "output_type": "stream",
          "name": "stdout",
          "text": [
            "epoch: 1, valid_score: 0.6279, train_score: 0.8314 **optimum\n",
            "epoch: 2, valid_score: 0.5946, train_score: 0.6527 **optimum\n",
            "epoch: 3, valid_score: 0.5919, train_score: 0.6296 **optimum\n",
            "epoch: 4, valid_score: 0.5684, train_score: 0.6154 **optimum\n",
            "epoch: 5, valid_score: 0.5667, train_score: 0.6067 **optimum\n",
            "epoch: 6, valid_score: 0.5672, train_score: 0.5954 **patience\n",
            "epoch: 7, valid_score: 0.5573, train_score: 0.5905 **optimum\n",
            "epoch: 8, valid_score: 0.5590, train_score: 0.5854 **patience\n",
            "epoch: 9, valid_score: 0.5617, train_score: 0.5813 **patience\n",
            "epoch: 10, valid_score: 0.5609, train_score: 0.5805 **patience\n",
            "epoch: 11, valid_score: 0.5639, train_score: 0.5735 **patience\n",
            "epoch: 12, valid_score: 0.5625, train_score: 0.5652 **patience\n",
            "epoch: 13, valid_score: 0.5486, train_score: 0.5616 **optimum\n",
            "epoch: 14, valid_score: 0.5547, train_score: 0.5589 **patience\n",
            "epoch: 15, valid_score: 0.5451, train_score: 0.5566 **optimum\n",
            "epoch: 16, valid_score: 0.5487, train_score: 0.5551 **patience\n",
            "epoch: 17, valid_score: 0.5481, train_score: 0.5494 **patience\n",
            "epoch: 18, valid_score: 0.5526, train_score: 0.5502 **patience\n",
            "epoch: 19, valid_score: 0.5580, train_score: 0.5484 **patience\n",
            "epoch: 20, valid_score: 0.5536, train_score: 0.5473 **patience\n",
            "epoch: 21, valid_score: 0.5615, train_score: 0.5422 **patience\n",
            "epoch: 22, valid_score: 0.5568, train_score: 0.5387 **patience\n",
            "epoch: 23, valid_score: 0.5532, train_score: 0.5388 **patience\n",
            "epoch: 24, valid_score: 0.5506, train_score: 0.5350 **patience\n",
            "epoch: 25, valid_score: 0.5509, train_score: 0.5329 **patience\n",
            "epoch: 26, valid_score: 0.5459, train_score: 0.5288 **patience\n",
            "epoch: 27, valid_score: 0.5481, train_score: 0.5283 **patience\n",
            "epoch: 28, valid_score: 0.5482, train_score: 0.5284 **patience\n",
            "epoch: 29, valid_score: 0.5550, train_score: 0.5281 **patience\n",
            "epoch: 30, valid_score: 0.5500, train_score: 0.5230 **patience\n",
            "epoch: 31, valid_score: 0.5454, train_score: 0.5237 **patience\n",
            "epoch: 32, valid_score: 0.5510, train_score: 0.5206 **patience\n",
            "epoch: 33, valid_score: 0.5552, train_score: 0.5196 **patience\n",
            "epoch: 34, valid_score: 0.5527, train_score: 0.5151 **patience\n",
            "epoch: 35, valid_score: 0.5436, train_score: 0.5209 **optimum\n",
            "epoch: 36, valid_score: 0.5482, train_score: 0.5132 **patience\n",
            "epoch: 37, valid_score: 0.5700, train_score: 0.5123 **patience\n",
            "epoch: 38, valid_score: 0.5488, train_score: 0.5130 **patience\n",
            "epoch: 39, valid_score: 0.5545, train_score: 0.5078 **patience\n",
            "epoch: 40, valid_score: 0.5508, train_score: 0.5106 **patience\n",
            "epoch: 41, valid_score: 0.5640, train_score: 0.5070 **patience\n",
            "epoch: 42, valid_score: 0.5568, train_score: 0.5067 **patience\n",
            "epoch: 43, valid_score: 0.5502, train_score: 0.5061 **patience\n",
            "epoch: 44, valid_score: 0.5540, train_score: 0.5027 **patience\n",
            "epoch: 45, valid_score: 0.5539, train_score: 0.5029 **patience\n",
            "epoch: 46, valid_score: 0.5505, train_score: 0.4984 **patience\n",
            "epoch: 47, valid_score: 0.5488, train_score: 0.5011 **patience\n",
            "epoch: 48, valid_score: 0.5506, train_score: 0.5022 **patience\n",
            "epoch: 49, valid_score: 0.5555, train_score: 0.5035 **patience\n",
            "epoch: 50, valid_score: 0.5589, train_score: 0.4968 **patience\n",
            "epoch: 51, valid_score: 0.5454, train_score: 0.4982 **patience\n",
            "epoch: 52, valid_score: 0.5565, train_score: 0.4981 **patience\n",
            "epoch: 53, valid_score: 0.5498, train_score: 0.4951 **patience\n",
            "epoch: 54, valid_score: 0.5554, train_score: 0.4927 **patience\n",
            "epoch: 55, valid_score: 0.5446, train_score: 0.4908 **patience\n",
            "epoch: 56, valid_score: 0.5408, train_score: 0.4885 **optimum\n",
            "epoch: 57, valid_score: 0.5457, train_score: 0.4897 **patience\n",
            "epoch: 58, valid_score: 0.5442, train_score: 0.4896 **patience\n",
            "epoch: 59, valid_score: 0.5467, train_score: 0.4872 **patience\n",
            "epoch: 60, valid_score: 0.5617, train_score: 0.4843 **patience\n",
            "epoch: 61, valid_score: 0.5543, train_score: 0.4885 **patience\n",
            "epoch: 62, valid_score: 0.5444, train_score: 0.4841 **patience\n",
            "epoch: 63, valid_score: 0.5574, train_score: 0.4868 **patience\n",
            "epoch: 64, valid_score: 0.5451, train_score: 0.4815 **patience\n",
            "epoch: 65, valid_score: 0.5495, train_score: 0.4822 **patience\n",
            "epoch: 66, valid_score: 0.5503, train_score: 0.4788 **patience\n",
            "epoch: 67, valid_score: 0.5537, train_score: 0.4811 **patience\n",
            "epoch: 68, valid_score: 0.5450, train_score: 0.4823 **patience\n",
            "epoch: 69, valid_score: 0.5467, train_score: 0.4783 **patience\n",
            "epoch: 70, valid_score: 0.5523, train_score: 0.4780 **patience\n",
            "epoch: 71, valid_score: 0.5478, train_score: 0.4762 **patience\n",
            "epoch: 72, valid_score: 0.5461, train_score: 0.4773 **patience\n",
            "epoch: 73, valid_score: 0.5539, train_score: 0.4765 **patience\n",
            "epoch: 74, valid_score: 0.5608, train_score: 0.4757 **patience\n",
            "epoch: 75, valid_score: 0.5559, train_score: 0.4774 **patience\n",
            "epoch: 76, valid_score: 0.5516, train_score: 0.4763 **patience\n",
            "epoch: 77, valid_score: 0.5543, train_score: 0.4754 **patience\n",
            "epoch: 78, valid_score: 0.5523, train_score: 0.4757 **patience\n",
            "epoch: 79, valid_score: 0.5504, train_score: 0.4738 **patience\n",
            "epoch: 80, valid_score: 0.5520, train_score: 0.4737 **patience\n",
            "epoch: 81, valid_score: 0.5538, train_score: 0.4683 **patience\n",
            "epoch: 82, valid_score: 0.5439, train_score: 0.4719 **patience\n",
            "epoch: 83, valid_score: 0.5494, train_score: 0.4696 **patience\n",
            "epoch: 84, valid_score: 0.5560, train_score: 0.4689 **patience\n",
            "epoch: 85, valid_score: 0.5514, train_score: 0.4672 **patience\n",
            "epoch: 86, valid_score: 0.5548, train_score: 0.4671 **patience\n",
            "epoch: 87, valid_score: 0.5618, train_score: 0.4676 **patience\n",
            "epoch: 88, valid_score: 0.5479, train_score: 0.4686 **patience\n",
            "epoch: 89, valid_score: 0.5482, train_score: 0.4674 **patience\n",
            "epoch: 90, valid_score: 0.5548, train_score: 0.4662 **patience\n",
            "epoch: 91, valid_score: 0.5465, train_score: 0.4660 **patience\n",
            "epoch: 92, valid_score: 0.5485, train_score: 0.4659 **patience\n",
            "epoch: 93, valid_score: 0.5427, train_score: 0.4674 **patience\n",
            "epoch: 94, valid_score: 0.5402, train_score: 0.4641 **optimum\n",
            "epoch: 95, valid_score: 0.5475, train_score: 0.4619 **patience\n",
            "epoch: 96, valid_score: 0.5500, train_score: 0.4628 **patience\n",
            "epoch: 97, valid_score: 0.5433, train_score: 0.4623 **patience\n",
            "epoch: 98, valid_score: 0.5488, train_score: 0.4639 **patience\n",
            "epoch: 99, valid_score: 0.5455, train_score: 0.4614 **patience\n",
            "epoch: 100, valid_score: 0.5493, train_score: 0.4635 **patience\n"
          ]
        }
      ]
    },
    {
      "cell_type": "code",
      "source": [
        "# customize library ***---------------------\n",
        "es.plot     # early_stopping plot\n",
        "# ------------------------------------------"
      ],
      "metadata": {
        "id": "GCh85kfXMwtl",
        "colab": {
          "base_uri": "https://localhost:8080/",
          "height": 449
        },
        "outputId": "0f518c38-162c-4d31-be22-64181a2d3dd3"
      },
      "execution_count": 30,
      "outputs": [
        {
          "output_type": "execute_result",
          "data": {
            "text/plain": [
              "<Figure size 640x480 with 1 Axes>"
            ],
            "image/png": "[encoded data removed]"
          },
          "metadata": {},
          "execution_count": 30
        }
      ]
    },
    {
      "cell_type": "code",
      "source": [
        "gpt_cls_with_pretrain.load_state_dict(es.optimum[2])    # optimum model (load weights)"
      ],
      "metadata": {
        "id": "1c4BOMWtMw5F",
        "colab": {
          "base_uri": "https://localhost:8080/"
        },
        "outputId": "2dc90469-fa4c-4be0-e73d-721a3b5e5666"
      },
      "execution_count": 31,
      "outputs": [
        {
          "output_type": "execute_result",
          "data": {
            "text/plain": [
              "<All keys matched successfully>"
            ]
          },
          "metadata": {},
          "execution_count": 31
        }
      ]
    },
    {
      "cell_type": "code",
      "source": [
        "# Performance Evaluate (Accuracy_score)\n",
        "gpt_cls_with_pretrain.downstream()\n",
        "torch_accuracy_score(cls_test_loader, gpt_cls_with_pretrain, device)"
      ],
      "metadata": {
        "id": "Ck4G0A-OMxBN",
        "colab": {
          "base_uri": "https://localhost:8080/"
        },
        "outputId": "4d71dafd-5e59-49ce-b279-2f135037ef5f"
      },
      "execution_count": 32,
      "outputs": [
        {
          "output_type": "execute_result",
          "data": {
            "text/plain": [
              "0.8066666666666666"
            ]
          },
          "metadata": {},
          "execution_count": 32
        }
      ]
    },
    {
      "cell_type": "code",
      "source": [],
      "metadata": {
        "id": "9m06u6w7MxJF"
      },
      "execution_count": 32,
      "outputs": []
    },
    {
      "cell_type": "code",
      "source": [
        "# Compare Performance ###########################################################\n",
        "torch_accuracy_score(cls_valid_loader, gpt_cls, device, verbose=1)\n",
        "torch_accuracy_score(cls_test_loader, gpt_cls_with_pretrain, device, verbose=1)\n",
        "print()"
      ],
      "metadata": {
        "id": "7BMTqTbBMxR1",
        "colab": {
          "base_uri": "https://localhost:8080/"
        },
        "outputId": "82bec703-6863-4834-d20c-0fb3cc763aad"
      },
      "execution_count": 33,
      "outputs": [
        {
          "output_type": "stream",
          "name": "stdout",
          "text": [
            "0.8053333333333333\n",
            "0.8066666666666666\n",
            "\n"
          ]
        }
      ]
    },
    {
      "cell_type": "code",
      "source": [],
      "metadata": {
        "id": "fcfBNBEsMxZl"
      },
      "execution_count": 33,
      "outputs": []
    },
    {
      "cell_type": "code",
      "source": [],
      "metadata": {
        "id": "_SLWNUGPMxld"
      },
      "execution_count": 33,
      "outputs": []
    },
    {
      "cell_type": "code",
      "source": [],
      "metadata": {
        "id": "4g2u3WwDMxuV"
      },
      "execution_count": 33,
      "outputs": []
    },
    {
      "cell_type": "code",
      "source": [],
      "metadata": {
        "id": "fTgSnAmTMx4F"
      },
      "execution_count": 33,
      "outputs": []
    },
    {
      "cell_type": "code",
      "source": [],
      "metadata": {
        "id": "nnPabUItMx_N"
      },
      "execution_count": 33,
      "outputs": []
    },
    {
      "cell_type": "code",
      "source": [],
      "metadata": {
        "id": "zxgD8DuIMyG1"
      },
      "execution_count": 33,
      "outputs": []
    }
  ]
}