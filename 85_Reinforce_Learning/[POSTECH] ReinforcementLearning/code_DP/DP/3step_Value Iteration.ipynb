{
 "cells": [
  {
   "cell_type": "markdown",
   "metadata": {},
   "source": [
    "## 라이브러리 불러오기"
   ]
  },
  {
   "cell_type": "code",
   "execution_count": null,
   "metadata": {},
   "outputs": [],
   "source": [
    "import numpy as np\n",
    "import sys\n",
    "import gym\n",
    "\n",
    "if \"../\" not in sys.path:\n",
    "  sys.path.append(\"../\") \n",
    "\n",
    "from time import sleep\n",
    "from IPython.display import clear_output\n",
    "\n",
    "from lib.envs.gridworld import GridworldEnv"
   ]
  },
  {
   "cell_type": "code",
   "execution_count": null,
   "metadata": {},
   "outputs": [],
   "source": [
    "env = GridworldEnv()"
   ]
  },
  {
   "cell_type": "code",
   "execution_count": null,
   "metadata": {},
   "outputs": [],
   "source": [
    "env.nS"
   ]
  },
  {
   "cell_type": "code",
   "execution_count": null,
   "metadata": {},
   "outputs": [],
   "source": [
    "env.render()"
   ]
  },
  {
   "cell_type": "code",
   "execution_count": null,
   "metadata": {},
   "outputs": [],
   "source": [
    "env.P[3][2]"
   ]
  },
  {
   "cell_type": "code",
   "execution_count": null,
   "metadata": {},
   "outputs": [],
   "source": [
    "#Copy the code from the last Practice code\n",
    "\n",
    "env.reset()\n",
    "\n",
    "obs_log = []\n",
    "cumulative_reward = []\n",
    "do = []\n",
    "\n",
    "for t in range(200):\n",
    "    env.render()\n",
    "\n",
    "    # your agent here\n",
    "    action = env.action_space.sample()\n",
    "\n",
    "    ## output : (next_state, reward, is_terminal, debug_info)\n",
    "    observation, reward, done, info = env.step(action)\n",
    "    \n",
    "    obs_log.append(observation)\n",
    "    if(t==0):\n",
    "        cumulative_reward.append(reward)\n",
    "    else:\n",
    "        cumulative_reward.append(reward + cumulative_reward[-1])\n",
    "\n",
    "    ## if is_terminal == True, then break for loop\n",
    "    if(done):\n",
    "        clear_output(wait = True)\n",
    "        sleep(0.2)\n",
    "        print(\"Episode finished after {} timesteps\".format(t + 1))\n",
    "        sleep(0.05)\n",
    "        env.render()\n",
    "        break\n",
    "        \n",
    "    sleep(0.2)\n",
    "    clear_output(wait = True)\n",
    "        \n",
    "env.close()"
   ]
  },
  {
   "cell_type": "markdown",
   "metadata": {},
   "source": [
    "## [To do] Make a Policy Evaluation function"
   ]
  },
  {
   "cell_type": "code",
   "execution_count": null,
   "metadata": {},
   "outputs": [],
   "source": [
    "def value_iteration(env, theta=0.0001, discount_factor=1.0):\n",
    "    \"\"\"\n",
    "    Value Iteration Algorithm.\n",
    "    \n",
    "    Args:\n",
    "        env: OpenAI env. env.P represents the transition probabilities of the environment.\n",
    "            env.P[s][a] is a list of transition tuples (prob, next_state, reward, done).\n",
    "            env.nS is a number of states in the environment. \n",
    "            env.nA is a number of actions in the environment.\n",
    "        theta: We stop evaluation once our value function change is less than theta for all states.\n",
    "        discount_factor: Gamma discount factor.\n",
    "        \n",
    "    Returns:\n",
    "        A tuple (policy, V) of the optimal policy and the optimal value function.\n",
    "    \"\"\"\n",
    "    \n",
    "    #앞의 step2의 one_step_lookahead함수와 완전히 같은 함수!\n",
    "    def one_step_lookahead(state, V):\n",
    "        \"\"\"\n",
    "        Helper function to calculate the value for all action in a given state.\n",
    "        \n",
    "        Args:\n",
    "            state: The state to consider (int)\n",
    "            V: The value to use as an estimator, Vector of length env.nS\n",
    "        \n",
    "        Returns:\n",
    "            A vector of length env.nA containing the expected value of each action.\n",
    "        \"\"\"\n",
    "        A = np.zeros(env.nA)\n",
    "        for a in range(env.nA):\n",
    "            for prob, next_state, reward, done in env.P[state][a]:\n",
    "                A[a] += prob * (reward + discount_factor * V[next_state])\n",
    "        return A\n",
    "    \n",
    "    #Value function 초기값 설정\n",
    "    V = np.zeros(env.nS)\n",
    "    \n",
    "    while True:\n",
    "        delta = 0\n",
    "        # 각 state마다\n",
    "        for s in range(env.nS):\n",
    "            #빈칸1_해당 state s 상태에서 one_step_lookahead를 이용하여 최대값을 best_action_value에 대입\n",
    "            #(실습pdf의 빨간 첫번째 빈칸식)\n",
    "\n",
    "            \n",
    "            # 빈칸2_기존 V와 새로운 V값의 차이로 delta값 구하기\n",
    "\n",
    "            # Update the value function.\n",
    "            V[s] = best_action_value        \n",
    "        # Check if we can stop \n",
    "        if delta < theta:\n",
    "            break\n",
    "    \n",
    "    #policy 만들기\n",
    "    policy = np.zeros([env.nS, env.nA])\n",
    "    \n",
    "    #빈칸3__실습pdf의 빨간 두번째 빈칸_위에서 찾은 optimal한 V를 이용하여 policy 찾기\n",
    "    #(힌트 : one_step_lookahead이용)\n",
    "    for s in range(env.nS):\n",
    "\n",
    "        \n",
    "        \n",
    "        \n",
    "        \n",
    "\n",
    "    #이제 optimal한 policy와 value function return하기\n",
    "    return policy, V"
   ]
  },
  {
   "cell_type": "markdown",
   "metadata": {},
   "source": [
    "## Running a function and show the results"
   ]
  },
  {
   "cell_type": "code",
   "execution_count": null,
   "metadata": {
    "scrolled": false
   },
   "outputs": [],
   "source": [
    "policy, v = value_iteration(env)\n",
    "print(\"Policy Probability Distribution:\")\n",
    "print(policy)\n",
    "print(\"\")\n",
    "\n",
    "Grid_policy=np.reshape(np.argmax(policy, axis=1), env.shape)\n",
    "print(\"Reshaped Grid Policy (0=up, 1=right, 2=down, 3=left):\")\n",
    "print(Grid_policy)\n",
    "print(\"\")\n",
    "\n",
    "print(\"Value Function:\")\n",
    "print(v)\n",
    "print(\"\")\n",
    "\n",
    "print(\"Reshaped Grid Value Function:\")\n",
    "print(v.reshape(env.shape))\n",
    "print(\"\")"
   ]
  },
  {
   "cell_type": "markdown",
   "metadata": {},
   "source": [
    "## Check if the policy_eval function makes correct answer!"
   ]
  },
  {
   "cell_type": "code",
   "execution_count": null,
   "metadata": {},
   "outputs": [],
   "source": [
    "# Test the value function\n",
    "expected_v = np.array([ 0, -1, -2, -3, -1, -2, -3, -2, -2, -3, -2, -1, -3, -2, -1,  0])\n",
    "np.testing.assert_array_almost_equal(v, expected_v, decimal=2)"
   ]
  },
  {
   "cell_type": "markdown",
   "metadata": {
    "collapsed": true
   },
   "source": [
    "# 우리가 얻어낸 최적의 Policy로 실제 Gridworld episode를 관찰해보기"
   ]
  },
  {
   "cell_type": "code",
   "execution_count": null,
   "metadata": {},
   "outputs": [],
   "source": [
    "env.reset()\n",
    "\n",
    "obs_log = []\n",
    "cumulative_reward = []\n",
    "do = []\n",
    "\n",
    "for t in range(200):\n",
    "    env.render()\n",
    "\n",
    "    # your agent here\n",
    "    action = Grid_policy[int(env.s/4)][env.s%4]\n",
    "\n",
    "    ## output : (next_state, reward, is_terminal, debug_info)\n",
    "    observation, reward, done, info = env.step(action)\n",
    "    \n",
    "    obs_log.append(observation)\n",
    "    if(t==0):\n",
    "        cumulative_reward.append(reward)\n",
    "    else:\n",
    "        cumulative_reward.append(reward + cumulative_reward[-1])\n",
    "\n",
    "    ## if is_terminal == True, then break for loop\n",
    "    if(done):\n",
    "        clear_output(wait = True)\n",
    "        sleep(0.2)\n",
    "        print(\"Episode finished after {} timesteps\".format(t + 1))\n",
    "        sleep(0.05)\n",
    "        env.render()\n",
    "        break\n",
    "        \n",
    "    sleep(0.2)\n",
    "    clear_output(wait = True)\n",
    "        \n",
    "env.close()"
   ]
  }
 ],
 "metadata": {
  "anaconda-cloud": {},
  "kernelspec": {
   "display_name": "jy",
   "language": "python",
   "name": "jy"
  },
  "language_info": {
   "codemirror_mode": {
    "name": "ipython",
    "version": 3
   },
   "file_extension": ".py",
   "mimetype": "text/x-python",
   "name": "python",
   "nbconvert_exporter": "python",
   "pygments_lexer": "ipython3",
   "version": "3.5.6"
  }
 },
 "nbformat": 4,
 "nbformat_minor": 1
}
