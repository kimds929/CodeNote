{
 "cells": [
  {
   "cell_type": "markdown",
   "metadata": {},
   "source": [
    "## 라이브러리 불러오기"
   ]
  },
  {
   "cell_type": "code",
   "execution_count": null,
   "metadata": {},
   "outputs": [],
   "source": [
    "import numpy as np\n",
    "import sys\n",
    "import gym\n",
    "\n",
    "if \"../\" not in sys.path:\n",
    "  sys.path.append(\"../\") \n",
    "\n",
    "from time import sleep\n",
    "from IPython.display import clear_output\n",
    "\n",
    "from lib.envs.gridworld import GridworldEnv"
   ]
  },
  {
   "cell_type": "code",
   "execution_count": null,
   "metadata": {},
   "outputs": [],
   "source": [
    "env = GridworldEnv()\n",
    "env.reset()"
   ]
  },
  {
   "cell_type": "code",
   "execution_count": null,
   "metadata": {},
   "outputs": [],
   "source": [
    "env.render()"
   ]
  },
  {
   "cell_type": "code",
   "execution_count": null,
   "metadata": {},
   "outputs": [],
   "source": [
    "env.P[3][2]"
   ]
  },
  {
   "cell_type": "code",
   "execution_count": null,
   "metadata": {},
   "outputs": [],
   "source": [
    "#Copy the code from the last Practice code\n",
    "\n",
    "env.reset()\n",
    "\n",
    "obs_log = []\n",
    "cumulative_reward = []\n",
    "do = []\n",
    "\n",
    "for t in range(200):\n",
    "    env.render()\n",
    "\n",
    "    # your agent here\n",
    "    action = env.action_space.sample()\n",
    "\n",
    "    ## output : (next_state, reward, is_terminal, debug_info)\n",
    "    observation, reward, done, info = env.step(action)\n",
    "    \n",
    "    obs_log.append(observation)\n",
    "    if(t==0):\n",
    "        cumulative_reward.append(reward)\n",
    "    else:\n",
    "        cumulative_reward.append(reward + cumulative_reward[-1])\n",
    "\n",
    "    ## if is_terminal == True, then break for loop\n",
    "    if(done):\n",
    "        clear_output(wait = True)\n",
    "        sleep(0.2)\n",
    "        print(\"Episode finished after {} timesteps\".format(t + 1))\n",
    "        sleep(0.05)\n",
    "        env.render()\n",
    "        break\n",
    "        \n",
    "    sleep(0.2)\n",
    "    clear_output(wait = True)\n",
    "        \n",
    "env.close()"
   ]
  },
  {
   "cell_type": "markdown",
   "metadata": {},
   "source": [
    "##  앞의 step1의 policy evaluation function 그대로 가져오기"
   ]
  },
  {
   "cell_type": "code",
   "execution_count": null,
   "metadata": {},
   "outputs": [],
   "source": [
    "# Taken from Policy Evaluation Exercise!\n",
    "\n",
    "def policy_eval(policy, env, discount_factor=1.0, theta=0.00001):\n",
    "    \"\"\"\n",
    "    Evaluate a policy given an environment and a full description of the environment's dynamics.\n",
    "    \n",
    "    Args:\n",
    "        policy: [S, A] shaped matrix representing the policy.\n",
    "        env: OpenAI env. env.P represents the transition probabilities of the environment.\n",
    "            env.P[s][a] is a list of transition tuples (prob, next_state, reward, done).\n",
    "            env.nS is a number of states in the environment. \n",
    "            env.nA is a number of actions in the environment.\n",
    "        theta: We stop evaluation once our value function change is less than theta for all states.\n",
    "        discount_factor: Gamma discount factor.\n",
    "    \n",
    "    Returns:\n",
    "        Vector of length env.nS representing the value function.\n",
    "    \"\"\"\n",
    "    iter=0\n",
    "    # Start with a random (all 0) value function\n",
    "    V = np.zeros(env.nS)\n",
    "    while True:\n",
    "        iter+=1\n",
    "        delta = 0\n",
    "        print(iter,\" iteration!\")\n",
    "        #각 state마다 기존 값 V와 새로 계산되는 v값을 비교한다(수렴할때까지)\n",
    "        for s in range(env.nS):\n",
    "            v = 0\n",
    "            #해당 state에서 취할 수 있는 각 액션마다(policy 기반)\n",
    "            for a, action_prob in enumerate(policy[s]):\n",
    "                #작성_해당 state의 action마다 P[s][a]를 가져와서\n",
    "                for  prob, next_state, reward, done in env.P[s][a]:\n",
    "                    #v에 더해주기\n",
    "                    v += action_prob * prob * (reward + discount_factor * V[next_state])\n",
    "            # How much our value function changed (across any states)\n",
    "            delta = max(delta, np.abs(v - V[s]))\n",
    "            V[s] = v\n",
    "        # Stop evaluating once our value function change is below a threshold\n",
    "        if delta < theta:\n",
    "            break\n",
    "    return np.array(V)"
   ]
  },
  {
   "cell_type": "markdown",
   "metadata": {},
   "source": [
    "## [To do] Make a Policy Improvement function"
   ]
  },
  {
   "cell_type": "code",
   "execution_count": null,
   "metadata": {},
   "outputs": [],
   "source": [
    "def policy_improvement(env, policy_eval=policy_eval, discount_factor=1.0):\n",
    "    \"\"\"\n",
    "    Policy Improvement Algorithm. Iteratively evaluates and improves a policy\n",
    "    until an optimal policy is found.\n",
    "    \n",
    "    Args:\n",
    "        env: The OpenAI envrionment.\n",
    "        policy_eval_fn: Policy Evaluation function that takes 3 arguments:\n",
    "            policy, env, discount_factor.\n",
    "        discount_factor: gamma discount factor.\n",
    "        \n",
    "    Returns:\n",
    "        A tuple (policy, V). \n",
    "        policy is the optimal policy, a matrix of shape [S, A] where each state s\n",
    "        contains a valid probability distribution over actions.\n",
    "        V is the value function for the optimal policy.\n",
    "        \n",
    "    \"\"\"\n",
    "\n",
    "    \n",
    "    def one_step_lookahead(state, V):\n",
    "        \"\"\"\n",
    "        Helper function to calculate the value for all action in a given state.\n",
    "        \n",
    "        Args:\n",
    "            state: The state to consider (int)\n",
    "            V: The value to use as an estimator, Vector of length env.nS\n",
    "        \n",
    "        Returns:\n",
    "            A vector of length env.nA containing the expected value of each action.\n",
    "        \"\"\"\n",
    "        #빈칸1_실습pdf의 첫번째 빨간 빈칸식\n",
    "        #현재 state와 value function V가 주어졌을때,  각 액션의 기대값 구하기\n",
    "        A = np.zeros(env.nA)\n",
    "        \n",
    "        \n",
    "        \n",
    "        return A\n",
    "\n",
    "    \n",
    "    #policy 초기값을 설정\n",
    "    # Start with a random policy\n",
    "    policy = np.ones([env.nS, env.nA]) / env.nA\n",
    "    \n",
    "    while True:#policy_stable이 True가 될 때까지 계속 반복\n",
    "        # 위에서 만든  policy_eval함수로 V 계산하기\n",
    "        V = policy_eval(policy, env, discount_factor)\n",
    "        \n",
    "        # Policy에 변화가 생기면 False로 바꾸어 while문 다시 반복 시행할 예정\n",
    "        policy_stable = True\n",
    "        \n",
    "        # 각 state마다\n",
    "        for s in range(env.nS):\n",
    "            #빈칸2_해당 s state에서 policy상 가장 best action을 chosen_a에 저장\n",
    "            \n",
    "            \n",
    "            #빈칸3_위의 one_step_lookahead함수를 이용해서 가장 best action을 best_a에 저장\n",
    "            \n",
    "            \n",
    "            #chosen_a가 best_a가 아니면...\n",
    "            if chosen_a != best_a:\n",
    "                policy_stable = False\n",
    "            #빈칸4_policy를 새로운 best_a에 맞게 update하기\n",
    "            #(Hint : 우리가 원하는  best action이 3번째면, policy[a]에 [0,0,1,0]) 대입하기\n",
    "            \n",
    "        \n",
    "        # If the policy is stable we've found an optimal policy. Return it\n",
    "        if policy_stable:\n",
    "            return policy, V"
   ]
  },
  {
   "cell_type": "markdown",
   "metadata": {},
   "source": [
    "## Running a function and show the results"
   ]
  },
  {
   "cell_type": "code",
   "execution_count": null,
   "metadata": {
    "scrolled": true
   },
   "outputs": [],
   "source": [
    "policy, v = policy_improvement(env)\n",
    "print(\"Policy Probability Distribution:\")\n",
    "print(policy)\n",
    "print(\"\")\n",
    "\n",
    "Grid_policy=np.reshape(np.argmax(policy, axis=1), env.shape)\n",
    "print(\"Reshaped Grid Policy (0=up, 1=right, 2=down, 3=left):\")\n",
    "print(Grid_policy)\n",
    "print(\"\")\n",
    "\n",
    "print(\"Value Function:\")\n",
    "print(v)\n",
    "print(\"\")\n",
    "\n",
    "print(\"Reshaped Grid Value Function:\")\n",
    "print(v.reshape(env.shape))\n",
    "print(\"\")"
   ]
  },
  {
   "cell_type": "markdown",
   "metadata": {},
   "source": [
    "## Check if the policy_eval function makes correct answer!"
   ]
  },
  {
   "cell_type": "code",
   "execution_count": null,
   "metadata": {},
   "outputs": [],
   "source": [
    "# Test the value function\n",
    "expected_v = np.array([ 0, -1, -2, -3, -1, -2, -3, -2, -2, -3, -2, -1, -3, -2, -1,  0])\n",
    "np.testing.assert_array_almost_equal(v, expected_v, decimal=2)"
   ]
  },
  {
   "cell_type": "markdown",
   "metadata": {
    "collapsed": true
   },
   "source": [
    "# 우리가 얻어낸 최적의 Policy로 실제 Gridworld episode를 관찰해보기"
   ]
  },
  {
   "cell_type": "code",
   "execution_count": null,
   "metadata": {},
   "outputs": [],
   "source": [
    "env.reset()\n",
    "\n",
    "obs_log = []\n",
    "cumulative_reward = []\n",
    "do = []\n",
    "\n",
    "for t in range(200):\n",
    "    env.render()\n",
    "\n",
    "    # your agent here\n",
    "    action = Grid_policy[int(env.s/4)][env.s%4]\n",
    "\n",
    "    ## output : (next_state, reward, is_terminal, debug_info)\n",
    "    observation, reward, done, info = env.step(action)\n",
    "    \n",
    "    obs_log.append(observation)\n",
    "    if(t==0):\n",
    "        cumulative_reward.append(reward)\n",
    "    else:\n",
    "        cumulative_reward.append(reward + cumulative_reward[-1])\n",
    "\n",
    "    ## if is_terminal == True, then break for loop\n",
    "    if(done):\n",
    "        clear_output(wait = True)\n",
    "        sleep(0.2)\n",
    "        print(\"Episode finished after {} timesteps\".format(t + 1))\n",
    "        sleep(0.05)\n",
    "        env.render()\n",
    "        break\n",
    "        \n",
    "    sleep(0.5)\n",
    "    clear_output(wait = True)\n",
    "        \n",
    "env.close()"
   ]
  }
 ],
 "metadata": {
  "kernelspec": {
   "display_name": "jy",
   "language": "python",
   "name": "jy"
  },
  "language_info": {
   "codemirror_mode": {
    "name": "ipython",
    "version": 3
   },
   "file_extension": ".py",
   "mimetype": "text/x-python",
   "name": "python",
   "nbconvert_exporter": "python",
   "pygments_lexer": "ipython3",
   "version": "3.5.6"
  }
 },
 "nbformat": 4,
 "nbformat_minor": 1
}
