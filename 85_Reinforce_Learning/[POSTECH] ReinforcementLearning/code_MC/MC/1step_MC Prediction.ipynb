{
 "cells": [
  {
   "cell_type": "markdown",
   "metadata": {},
   "source": [
    "## 라이브러리 불러오기"
   ]
  },
  {
   "cell_type": "code",
   "execution_count": null,
   "metadata": {},
   "outputs": [],
   "source": [
    "%matplotlib inline\n",
    "\n",
    "import gym\n",
    "import matplotlib\n",
    "import numpy as np\n",
    "import sys\n",
    "\n",
    "from collections import defaultdict\n",
    "if \"../\" not in sys.path:\n",
    "  sys.path.append(\"../\") \n",
    "from lib.envs.blackjack import BlackjackEnv\n",
    "from lib import plotting\n",
    "\n",
    "matplotlib.style.use('ggplot')"
   ]
  },
  {
   "cell_type": "code",
   "execution_count": null,
   "metadata": {},
   "outputs": [],
   "source": [
    "env = BlackjackEnv()"
   ]
  },
  {
   "cell_type": "code",
   "execution_count": null,
   "metadata": {},
   "outputs": [],
   "source": [
    "def mc_prediction(policy, env, num_episodes, discount_factor=1.0):\n",
    "    \"\"\"\n",
    "    Monte Carlo prediction algorithm. Calculates the value function\n",
    "    for a given policy using sampling.\n",
    "    \n",
    "    Args:\n",
    "        policy: A function that maps an observation to action probabilities.\n",
    "        env: OpenAI gym environment.\n",
    "        num_episodes: Number of episodes to sample.\n",
    "        discount_factor: Gamma discount factor.\n",
    "    \n",
    "    Returns:\n",
    "        A dictionary that maps from state -> value.\n",
    "        The state is a tuple and the value is a float.\n",
    "    \"\"\"\n",
    "    \n",
    "    #우리는 MC방법을 이용해서 Value function V를 구할것이다.\n",
    "    # How : 몇 번의 episode를 시행시켜보고, 그 episode들의 G(return)의 평균을 구해서\n",
    "    # 그 평균값으로 V를 대체하자. 이를 위해 return G의 총 합과 횟수를 기록하자\n",
    "    returns_sum = defaultdict(float)\n",
    "    returns_count = defaultdict(float)\n",
    "    \n",
    "    # The final value function\n",
    "    V = defaultdict(float)\n",
    "    \n",
    "    #각각의 에피소드마다\n",
    "    for i_episode in range(1, num_episodes + 1):\n",
    "        # Print out which episode we're on, useful for debugging.\n",
    "        if i_episode % 1000 == 0:\n",
    "            print(\"\\rEpisode {}/{}.\".format(i_episode, num_episodes), end=\"\")\n",
    "            sys.stdout.flush()\n",
    "\n",
    "        #An episode will be an array of (state, action, reward) tuples           \n",
    "        #episode를 빈 array로 만들자\n",
    "        episode = []\n",
    "        #현재 state를 리셋하자\n",
    "        state = env.reset()\n",
    "        \n",
    "        #빈칸1__실습pdf의 빨간 첫번째 빈칸식_\n",
    "        #policy를 이용하여 state를 계속 업데이트 하며, 이것들을 episode에 저장하자\n",
    "\n",
    "        \n",
    "        \n",
    "        \n",
    "        \n",
    "        \n",
    "        \n",
    "        \n",
    "        #위에서 저장한 episode는 예를들면 다음과 같이 저장될 것이다\n",
    "        # For example, epsiode is [((12, 10, False), 1, 0), ((15, 10, False), 1, 0), ((19, 10, False), 1, -1)]\n",
    "        \n",
    "        #states_in_episode에 위의 episode array에서 방문한 state들만 뽑아서 저장하자\n",
    "        states_in_episode = [x[0] for x in episode]\n",
    "        #각각의 방문했던 state마다\n",
    "        for state in states_in_episode:\n",
    "            #빈칸2_episode중에 처음으로 그 state에 방문한 idx를 first_occurence_idx에 저장하자.\n",
    "\n",
    "            \n",
    "            \n",
    "            \n",
    "            #빈칸3_처음 방문한 이후로 reward들을 G에 합하자\n",
    "            \n",
    "            \n",
    "            \n",
    "            # 계산된 G를 해당 state의 returns_sum에 합하고, returns_count까지 이용하여 평균을 V에 대입하자\n",
    "            returns_sum[state] += G\n",
    "            returns_count[state] += 1.0\n",
    "            #빈칸4_결국 우리가 구하고자 하는 state-value function V에는 어떤값을 대입??\n",
    "            ###''V[state] = 으로 시작\n",
    "\n",
    "    return V"
   ]
  },
  {
   "cell_type": "markdown",
   "metadata": {},
   "source": [
    "## Policy정의"
   ]
  },
  {
   "cell_type": "code",
   "execution_count": null,
   "metadata": {},
   "outputs": [],
   "source": [
    "def sample_policy(observation):\n",
    "    \"\"\"\n",
    "    A policy that sticks if the player score is >= 20 and hits otherwise.\n",
    "    \"\"\"\n",
    "    score, dealer_score, usable_ace = observation\n",
    "    return 0 if score >= 20 else 1"
   ]
  },
  {
   "cell_type": "markdown",
   "metadata": {},
   "source": [
    "## 각 state별 value funtion 값 plot해보기"
   ]
  },
  {
   "cell_type": "code",
   "execution_count": null,
   "metadata": {
    "scrolled": true
   },
   "outputs": [],
   "source": [
    "V_10k = mc_prediction(sample_policy, env, num_episodes=10000)\n",
    "plotting.plot_value_function(V_10k, title=\"10,000 Steps\")\n",
    "\n",
    "V_500k = mc_prediction(sample_policy, env, num_episodes=500000)\n",
    "plotting.plot_value_function(V_500k, title=\"500,000 Steps\")"
   ]
  },
  {
   "cell_type": "code",
   "execution_count": null,
   "metadata": {},
   "outputs": [],
   "source": []
  }
 ],
 "metadata": {
  "kernelspec": {
   "display_name": "pydata",
   "language": "python",
   "name": "pydata"
  },
  "language_info": {
   "codemirror_mode": {
    "name": "ipython",
    "version": 3
   },
   "file_extension": ".py",
   "mimetype": "text/x-python",
   "name": "python",
   "nbconvert_exporter": "python",
   "pygments_lexer": "ipython3",
   "version": "3.6.8"
  }
 },
 "nbformat": 4,
 "nbformat_minor": 1
}
