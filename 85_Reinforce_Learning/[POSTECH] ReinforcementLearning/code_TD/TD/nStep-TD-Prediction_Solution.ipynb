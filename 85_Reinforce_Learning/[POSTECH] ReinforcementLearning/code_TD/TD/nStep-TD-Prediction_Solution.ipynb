{
 "cells": [
  {
   "cell_type": "code",
   "execution_count": 1,
   "metadata": {},
   "outputs": [],
   "source": [
    "%matplotlib inline\n",
    "\n",
    "import gym\n",
    "import matplotlib\n",
    "import numpy as np\n",
    "import pandas as pd\n",
    "import sys\n",
    "from tqdm import tqdm_notebook\n",
    "\n",
    "from collections import defaultdict\n",
    "\n",
    "import itertools\n",
    "if \"../\" not in sys.path:\n",
    "  sys.path.append(\"../\") \n",
    "from lib.envs.cliff_walking import CliffWalkingEnv\n",
    "\n",
    "matplotlib.style.use('ggplot')\n",
    "\n"
   ]
  },
  {
   "cell_type": "code",
   "execution_count": 2,
   "metadata": {},
   "outputs": [],
   "source": [
    "env = CliffWalkingEnv()"
   ]
  },
  {
   "cell_type": "code",
   "execution_count": 3,
   "metadata": {},
   "outputs": [],
   "source": [
    "def random_policy(state):\n",
    "    action_probs = np.array([0.25,0.25,0.25,0.25])\n",
    "    return np.random.choice(np.arange(len(action_probs)), p=action_probs)"
   ]
  },
  {
   "cell_type": "code",
   "execution_count": 4,
   "metadata": {},
   "outputs": [],
   "source": [
    "def nstep_prediction(policy, env, num_episodes, n_step = 2, alpha = 0.5, discount_factor=0.5):    \n",
    "\n",
    "\n",
    "    # The final value function\n",
    "    V = defaultdict(float)\n",
    "    \n",
    "    for i_episode in tqdm_notebook(range(num_episodes)):\n",
    "        \n",
    "\n",
    "        state = env.reset() ### S_0\n",
    "        \n",
    "        T = np.inf\n",
    "        updating_time = 0\n",
    "        state_history = [] ### S_0, S_1,...\n",
    "        state_history.append(state)\n",
    "        reward_history = [] ### R_1, R_2,...\n",
    "        for t in itertools.count():\n",
    "            if t< T:\n",
    "\n",
    "                ###action_probs = policy(state)\n",
    "                action_probs = np.array([0.25,0.25,0.25,0.25])\n",
    "                action = np.random.choice(np.arange(len(action_probs)), p=action_probs)\n",
    "                next_state, reward, done, _ = env.step(action)\n",
    "                reward_history.append(reward)\n",
    "                state_history.append(next_state)\n",
    "                \n",
    "\n",
    "                if done: T=t+1\n",
    "\n",
    "            updating_time = t-n_step + 1\n",
    "            \n",
    "            \n",
    "            if updating_time >= 0:\n",
    "                G = 0\n",
    "\n",
    "                for i in range(updating_time + 1, int(np.min([updating_time + n_step, T])) + 1):\n",
    "                    G+= (discount_factor** (i-updating_time - 1)) * reward_history[i-1]\n",
    "                \n",
    "                if updating_time +n_step < T:\n",
    "                    G += ( discount_factor**n_step ) * V[state_history[updating_time + n_step]]\n",
    "\n",
    "                V[state_history[updating_time]] += alpha * (G - V[state_history[updating_time]])\n",
    "            if updating_time == T-1:\n",
    "                break\n",
    "            state = next_state\n",
    "    return V"
   ]
  },
  {
   "cell_type": "code",
   "execution_count": 5,
   "metadata": {},
   "outputs": [],
   "source": [
    "def ViewValue(V):\n",
    "    value_table = np.zeros(48)\n",
    "    for key in V.keys():\n",
    "        value_table[key] = V[key]\n",
    "    value_table = value_table.reshape(4,12)\n",
    "    value_table = np.around(value_table,2)\n",
    "    \n",
    "    return pd.DataFrame(value_table)"
   ]
  },
  {
   "cell_type": "code",
   "execution_count": 6,
   "metadata": {
    "scrolled": false
   },
   "outputs": [
    {
     "name": "stderr",
     "output_type": "stream",
     "text": [
      "/home/pirl/anaconda3/envs/posco/lib/python3.7/site-packages/ipykernel_launcher.py:7: TqdmDeprecationWarning: This function will be removed in tqdm==5.0.0\n",
      "Please use `tqdm.notebook.tqdm` instead of `tqdm.tqdm_notebook`\n",
      "  import sys\n"
     ]
    },
    {
     "data": {
      "application/vnd.jupyter.widget-view+json": {
       "model_id": "8e4b2535887d4c48b49c10c980c79e1e",
       "version_major": 2,
       "version_minor": 0
      },
      "text/plain": [
       "HBox(children=(FloatProgress(value=0.0, max=5000.0), HTML(value='')))"
      ]
     },
     "metadata": {},
     "output_type": "display_data"
    },
    {
     "name": "stdout",
     "output_type": "stream",
     "text": [
      "\n"
     ]
    },
    {
     "data": {
      "text/html": [
       "<div>\n",
       "<style scoped>\n",
       "    .dataframe tbody tr th:only-of-type {\n",
       "        vertical-align: middle;\n",
       "    }\n",
       "\n",
       "    .dataframe tbody tr th {\n",
       "        vertical-align: top;\n",
       "    }\n",
       "\n",
       "    .dataframe thead th {\n",
       "        text-align: right;\n",
       "    }\n",
       "</style>\n",
       "<table border=\"1\" class=\"dataframe\">\n",
       "  <thead>\n",
       "    <tr style=\"text-align: right;\">\n",
       "      <th></th>\n",
       "      <th>0</th>\n",
       "      <th>1</th>\n",
       "      <th>2</th>\n",
       "      <th>3</th>\n",
       "      <th>4</th>\n",
       "      <th>5</th>\n",
       "      <th>6</th>\n",
       "      <th>7</th>\n",
       "      <th>8</th>\n",
       "      <th>9</th>\n",
       "      <th>10</th>\n",
       "      <th>11</th>\n",
       "    </tr>\n",
       "  </thead>\n",
       "  <tbody>\n",
       "    <tr>\n",
       "      <th>0</th>\n",
       "      <td>-2.09</td>\n",
       "      <td>-4.78</td>\n",
       "      <td>-2.85</td>\n",
       "      <td>-2.05</td>\n",
       "      <td>-4.41</td>\n",
       "      <td>-3.84</td>\n",
       "      <td>-2.56</td>\n",
       "      <td>-2.16</td>\n",
       "      <td>-2.09</td>\n",
       "      <td>-2.17</td>\n",
       "      <td>-2.06</td>\n",
       "      <td>-2.09</td>\n",
       "    </tr>\n",
       "    <tr>\n",
       "      <th>1</th>\n",
       "      <td>-22.21</td>\n",
       "      <td>-5.20</td>\n",
       "      <td>-3.43</td>\n",
       "      <td>-2.08</td>\n",
       "      <td>-2.21</td>\n",
       "      <td>-8.18</td>\n",
       "      <td>-14.48</td>\n",
       "      <td>-29.58</td>\n",
       "      <td>-2.52</td>\n",
       "      <td>-29.60</td>\n",
       "      <td>-14.38</td>\n",
       "      <td>-2.81</td>\n",
       "    </tr>\n",
       "    <tr>\n",
       "      <th>2</th>\n",
       "      <td>-32.93</td>\n",
       "      <td>-62.16</td>\n",
       "      <td>-8.10</td>\n",
       "      <td>-16.36</td>\n",
       "      <td>-31.38</td>\n",
       "      <td>-58.93</td>\n",
       "      <td>-64.32</td>\n",
       "      <td>-80.29</td>\n",
       "      <td>-22.88</td>\n",
       "      <td>-56.05</td>\n",
       "      <td>-32.94</td>\n",
       "      <td>-7.54</td>\n",
       "    </tr>\n",
       "    <tr>\n",
       "      <th>3</th>\n",
       "      <td>-59.20</td>\n",
       "      <td>0.00</td>\n",
       "      <td>0.00</td>\n",
       "      <td>0.00</td>\n",
       "      <td>0.00</td>\n",
       "      <td>0.00</td>\n",
       "      <td>0.00</td>\n",
       "      <td>0.00</td>\n",
       "      <td>0.00</td>\n",
       "      <td>0.00</td>\n",
       "      <td>0.00</td>\n",
       "      <td>0.00</td>\n",
       "    </tr>\n",
       "  </tbody>\n",
       "</table>\n",
       "</div>"
      ],
      "text/plain": [
       "       0      1     2      3      4      5      6      7      8      9     10  \\\n",
       "0  -2.09  -4.78 -2.85  -2.05  -4.41  -3.84  -2.56  -2.16  -2.09  -2.17  -2.06   \n",
       "1 -22.21  -5.20 -3.43  -2.08  -2.21  -8.18 -14.48 -29.58  -2.52 -29.60 -14.38   \n",
       "2 -32.93 -62.16 -8.10 -16.36 -31.38 -58.93 -64.32 -80.29 -22.88 -56.05 -32.94   \n",
       "3 -59.20   0.00  0.00   0.00   0.00   0.00   0.00   0.00   0.00   0.00   0.00   \n",
       "\n",
       "     11  \n",
       "0 -2.09  \n",
       "1 -2.81  \n",
       "2 -7.54  \n",
       "3  0.00  "
      ]
     },
     "execution_count": 6,
     "metadata": {},
     "output_type": "execute_result"
    }
   ],
   "source": [
    "V = nstep_prediction(random_policy, env, 5000, n_step = 4)\n",
    "ViewValue(V)"
   ]
  },
  {
   "cell_type": "code",
   "execution_count": 7,
   "metadata": {},
   "outputs": [
    {
     "name": "stderr",
     "output_type": "stream",
     "text": [
      "/home/pirl/anaconda3/envs/posco/lib/python3.7/site-packages/ipykernel_launcher.py:7: TqdmDeprecationWarning: This function will be removed in tqdm==5.0.0\n",
      "Please use `tqdm.notebook.tqdm` instead of `tqdm.tqdm_notebook`\n",
      "  import sys\n"
     ]
    },
    {
     "data": {
      "application/vnd.jupyter.widget-view+json": {
       "model_id": "b30eabde96884fac92eb3b3ccbcf2fe3",
       "version_major": 2,
       "version_minor": 0
      },
      "text/plain": [
       "HBox(children=(FloatProgress(value=0.0, max=5000.0), HTML(value='')))"
      ]
     },
     "metadata": {},
     "output_type": "display_data"
    },
    {
     "name": "stdout",
     "output_type": "stream",
     "text": [
      "\n"
     ]
    },
    {
     "data": {
      "text/html": [
       "<div>\n",
       "<style scoped>\n",
       "    .dataframe tbody tr th:only-of-type {\n",
       "        vertical-align: middle;\n",
       "    }\n",
       "\n",
       "    .dataframe tbody tr th {\n",
       "        vertical-align: top;\n",
       "    }\n",
       "\n",
       "    .dataframe thead th {\n",
       "        text-align: right;\n",
       "    }\n",
       "</style>\n",
       "<table border=\"1\" class=\"dataframe\">\n",
       "  <thead>\n",
       "    <tr style=\"text-align: right;\">\n",
       "      <th></th>\n",
       "      <th>0</th>\n",
       "      <th>1</th>\n",
       "      <th>2</th>\n",
       "      <th>3</th>\n",
       "      <th>4</th>\n",
       "      <th>5</th>\n",
       "      <th>6</th>\n",
       "      <th>7</th>\n",
       "      <th>8</th>\n",
       "      <th>9</th>\n",
       "      <th>10</th>\n",
       "      <th>11</th>\n",
       "    </tr>\n",
       "  </thead>\n",
       "  <tbody>\n",
       "    <tr>\n",
       "      <th>0</th>\n",
       "      <td>-2.44</td>\n",
       "      <td>-2.12</td>\n",
       "      <td>-2.56</td>\n",
       "      <td>-2.48</td>\n",
       "      <td>-5.09</td>\n",
       "      <td>-3.43</td>\n",
       "      <td>-4.37</td>\n",
       "      <td>-2.74</td>\n",
       "      <td>-4.47</td>\n",
       "      <td>-9.98</td>\n",
       "      <td>-3.79</td>\n",
       "      <td>-3.07</td>\n",
       "    </tr>\n",
       "    <tr>\n",
       "      <th>1</th>\n",
       "      <td>-6.44</td>\n",
       "      <td>-8.90</td>\n",
       "      <td>-4.94</td>\n",
       "      <td>-27.90</td>\n",
       "      <td>-14.09</td>\n",
       "      <td>-10.11</td>\n",
       "      <td>-8.55</td>\n",
       "      <td>-15.53</td>\n",
       "      <td>-23.28</td>\n",
       "      <td>-12.76</td>\n",
       "      <td>-6.58</td>\n",
       "      <td>-3.27</td>\n",
       "    </tr>\n",
       "    <tr>\n",
       "      <th>2</th>\n",
       "      <td>-2.31</td>\n",
       "      <td>-42.70</td>\n",
       "      <td>-77.90</td>\n",
       "      <td>-58.49</td>\n",
       "      <td>-38.37</td>\n",
       "      <td>-54.19</td>\n",
       "      <td>-69.05</td>\n",
       "      <td>-83.11</td>\n",
       "      <td>-61.69</td>\n",
       "      <td>-45.43</td>\n",
       "      <td>-73.95</td>\n",
       "      <td>-3.17</td>\n",
       "    </tr>\n",
       "    <tr>\n",
       "      <th>3</th>\n",
       "      <td>-81.75</td>\n",
       "      <td>0.00</td>\n",
       "      <td>0.00</td>\n",
       "      <td>0.00</td>\n",
       "      <td>0.00</td>\n",
       "      <td>0.00</td>\n",
       "      <td>0.00</td>\n",
       "      <td>0.00</td>\n",
       "      <td>0.00</td>\n",
       "      <td>0.00</td>\n",
       "      <td>0.00</td>\n",
       "      <td>0.00</td>\n",
       "    </tr>\n",
       "  </tbody>\n",
       "</table>\n",
       "</div>"
      ],
      "text/plain": [
       "       0      1      2      3      4      5      6      7      8      9  \\\n",
       "0  -2.44  -2.12  -2.56  -2.48  -5.09  -3.43  -4.37  -2.74  -4.47  -9.98   \n",
       "1  -6.44  -8.90  -4.94 -27.90 -14.09 -10.11  -8.55 -15.53 -23.28 -12.76   \n",
       "2  -2.31 -42.70 -77.90 -58.49 -38.37 -54.19 -69.05 -83.11 -61.69 -45.43   \n",
       "3 -81.75   0.00   0.00   0.00   0.00   0.00   0.00   0.00   0.00   0.00   \n",
       "\n",
       "      10    11  \n",
       "0  -3.79 -3.07  \n",
       "1  -6.58 -3.27  \n",
       "2 -73.95 -3.17  \n",
       "3   0.00  0.00  "
      ]
     },
     "execution_count": 7,
     "metadata": {},
     "output_type": "execute_result"
    }
   ],
   "source": [
    "V = nstep_prediction(random_policy, env, 5000, n_step = 2)\n",
    "ViewValue(V)"
   ]
  },
  {
   "cell_type": "code",
   "execution_count": null,
   "metadata": {},
   "outputs": [],
   "source": []
  }
 ],
 "metadata": {
  "kernelspec": {
   "display_name": "Python 3",
   "language": "python",
   "name": "python3"
  },
  "language_info": {
   "codemirror_mode": {
    "name": "ipython",
    "version": 3
   },
   "file_extension": ".py",
   "mimetype": "text/x-python",
   "name": "python",
   "nbconvert_exporter": "python",
   "pygments_lexer": "ipython3",
   "version": "3.7.2"
  }
 },
 "nbformat": 4,
 "nbformat_minor": 2
}
