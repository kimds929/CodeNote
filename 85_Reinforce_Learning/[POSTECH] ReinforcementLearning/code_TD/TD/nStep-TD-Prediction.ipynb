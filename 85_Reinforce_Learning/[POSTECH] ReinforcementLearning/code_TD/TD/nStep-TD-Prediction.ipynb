{
 "cells": [
  {
   "cell_type": "code",
   "execution_count": 21,
   "metadata": {},
   "outputs": [],
   "source": [
    "%matplotlib inline\n",
    "\n",
    "import gym\n",
    "import matplotlib\n",
    "import numpy as np\n",
    "import pandas as pd\n",
    "import sys\n",
    "from tqdm import tqdm_notebook\n",
    "\n",
    "from collections import defaultdict\n",
    "\n",
    "import itertools\n",
    "if \"../\" not in sys.path:\n",
    "  sys.path.append(\"../\") \n",
    "from lib.envs.cliff_walking import CliffWalkingEnv\n",
    "\n",
    "matplotlib.style.use('ggplot')\n",
    "\n"
   ]
  },
  {
   "cell_type": "code",
   "execution_count": 22,
   "metadata": {},
   "outputs": [],
   "source": [
    "env = CliffWalkingEnv()"
   ]
  },
  {
   "cell_type": "code",
   "execution_count": 23,
   "metadata": {},
   "outputs": [],
   "source": [
    "### random_policy를 만들어 봅시다. (모든 방향으로 갈 확률 동일)\n",
    "\n",
    "def random_policy(state):\n",
    "    action_probs = np.array([0.25,0.25,0.25,0.25])\n",
    "    return np.random.choice(np.arange(len(action_probs)), p=action_probs)"
   ]
  },
  {
   "cell_type": "code",
   "execution_count": 24,
   "metadata": {},
   "outputs": [],
   "source": [
    "def nstep_prediction(policy, env, num_episodes, n_step = 2, alpha = 0.5, discount_factor=0.5):    \n",
    "\n",
    "\n",
    "    # The final value function\n",
    "    V = defaultdict(float)\n",
    "    \n",
    "    for i_episode in tqdm_notebook(range(1, num_episodes + 1)):\n",
    "        \n",
    "        # 주어진 pseudo-code를 코드화 시켜봅시다.\n",
    "\n",
    "        \n",
    "        \n",
    "    return V"
   ]
  },
  {
   "cell_type": "code",
   "execution_count": 25,
   "metadata": {},
   "outputs": [],
   "source": [
    "def ViewValue(V):\n",
    "    value_table = np.zeros(48)\n",
    "    for key in V.keys():\n",
    "        value_table[key] = V[key]\n",
    "    value_table = value_table.reshape(4,12)\n",
    "    value_table = np.around(value_table,2)\n",
    "    \n",
    "    return pd.DataFrame(value_table)"
   ]
  },
  {
   "cell_type": "code",
   "execution_count": null,
   "metadata": {},
   "outputs": [],
   "source": [
    "V = nstep_prediction(random_policy, env, 300, n_step = 5)\n",
    "ViewValue(V)"
   ]
  }
 ],
 "metadata": {
  "kernelspec": {
   "display_name": "Python 3",
   "language": "python",
   "name": "python3"
  },
  "language_info": {
   "codemirror_mode": {
    "name": "ipython",
    "version": 3
   },
   "file_extension": ".py",
   "mimetype": "text/x-python",
   "name": "python",
   "nbconvert_exporter": "python",
   "pygments_lexer": "ipython3",
   "version": "3.7.3"
  }
 },
 "nbformat": 4,
 "nbformat_minor": 2
}
