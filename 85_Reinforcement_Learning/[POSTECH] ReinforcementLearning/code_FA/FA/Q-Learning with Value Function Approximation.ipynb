{
 "cells": [
  {
   "cell_type": "code",
   "execution_count": 2,
   "metadata": {},
   "outputs": [],
   "source": [
    "%matplotlib inline\n",
    "\n",
    "import gym\n",
    "import itertools\n",
    "import matplotlib\n",
    "import matplotlib.pyplot as plt\n",
    "import numpy as np\n",
    "import sys\n",
    "import sklearn.pipeline\n",
    "import sklearn.preprocessing\n",
    "from collections import namedtuple\n",
    "\n",
    "if \"../\" not in sys.path:\n",
    "    sys.path.append(\"../\") \n",
    "\n",
    "from lib import plotting\n",
    "from sklearn.linear_model import SGDRegressor\n",
    "from sklearn.kernel_approximation import RBFSampler\n",
    "from sklearn.preprocessing import PolynomialFeatures\n",
    "\n",
    "matplotlib.style.use('ggplot')"
   ]
  },
  {
   "cell_type": "code",
   "execution_count": 3,
   "metadata": {},
   "outputs": [],
   "source": [
    "env = gym.envs.make(\"MountainCar-v0\")"
   ]
  },
  {
   "cell_type": "code",
   "execution_count": 4,
   "metadata": {},
   "outputs": [
    {
     "data": {
      "text/plain": [
       "PolynomialFeatures(degree=5, include_bias=True, interaction_only=False)"
      ]
     },
     "execution_count": 4,
     "metadata": {},
     "output_type": "execute_result"
    }
   ],
   "source": [
    "# Feature(state) 전처리, 평균을 0, 표준편차를 1로 만들어줍니다\n",
    "# 환경에서 임의의 샘플 10000개를 뽑아와서 작업을 시작합니다.\n",
    "observation_examples = np.array([env.observation_space.sample() for x in range(10000)])\n",
    "scaler = sklearn.preprocessing.StandardScaler()\n",
    "scaler.fit(observation_examples)\n",
    "\n",
    "# Polynomial features\n",
    "featurizer = PolynomialFeatures(degree=10)\n",
    "featurizer.fit(scaler.transform(observation_examples))\n",
    "\n",
    "#  Feature construction\n",
    "# RBF kernel을 사용하여 새로운 Feature 들을 만들어냅니다.\n",
    "# 다양한 gamma 값을 사용하여 다양한 Feature를 만들어냅니다.\n",
    "# featurizer = sklearn.pipeline.FeatureUnion([\n",
    "#         (\"rbf1\", RBFSampler(gamma=5.0, n_components=100)),\n",
    "#         (\"rbf2\", RBFSampler(gamma=2.0, n_components=100)),\n",
    "#         (\"rbf3\", RBFSampler(gamma=1.0, n_components=100)),\n",
    "#         (\"rbf4\", RBFSampler(gamma=0.5, n_components=100))\n",
    "#         ])\n",
    "# featurizer.fit(scaler.transform(observation_examples))"
   ]
  },
  {
   "cell_type": "code",
   "execution_count": 6,
   "metadata": {},
   "outputs": [],
   "source": [
    "class Estimator():\n",
    "    \"\"\"\n",
    "    Value Function approximator. \n",
    "    \"\"\"\n",
    "    \n",
    "    def __init__(self):\n",
    "        # action space가 discreate 하기 때문에  action 마다\n",
    "        # 모델을 따로 만들어 줄것입니다.\n",
    "        self.models = []\n",
    "        for _ in range(env.action_space.n):\n",
    "            model = SGDRegressor(learning_rate=\"constant\")\n",
    "            # We need to call partial_fit once to initialize the model\n",
    "            # or we get a NotFittedError when trying to make a prediction\n",
    "            # This is quite hacky.\n",
    "            model.partial_fit([self.featurize_state(env.reset())], [0])\n",
    "            self.models.append(model)\n",
    "    \n",
    "    def featurize_state(self, state):\n",
    "        \"\"\"\n",
    "        state(position, velocity)를 input으로 받고 Feature construction을 한\n",
    "        결과를 ouput으로 내는 함수입니다.\n",
    "        \"\"\"\n",
    "        scaled = scaler.transform([state])\n",
    "        featurized = featurizer.transform(scaled)\n",
    "        return featurized[0]\n",
    "    \n",
    "    def predict(self, s):\n",
    "        \"\"\"\n",
    "        value에 대한 예측을 합니다.\n",
    "        \n",
    "        Args:\n",
    "            s: value를 estimate하고 싶은 state\n",
    "            \n",
    "        Returns\n",
    "            state s에서 각각의 action이 갖는 value를 numpy.array로 반환\n",
    "            \n",
    "        \"\"\"\n",
    "        # TODO: Implement this!\n",
    "        pass\n",
    "    \n",
    "    def update(self, s, a, y):\n",
    "        \"\"\"\n",
    "        주어진 state s, action a와 target y를 사용하여 estimator를 update 합니다.\n",
    "        \"\"\"\n",
    "        # TODO: Implement this!\n",
    "        pass"
   ]
  },
  {
   "cell_type": "code",
   "execution_count": 7,
   "metadata": {},
   "outputs": [],
   "source": [
    "def make_epsilon_greedy_policy(estimator, epsilon, nA):\n",
    "    \"\"\"\n",
    "    epsilon greedy policy 정의\n",
    "    \n",
    "    \"\"\"\n",
    "    def policy_fn(observation):\n",
    "        A = np.ones(nA, dtype=float) * epsilon / nA\n",
    "        q_values = estimator.predict(observation)\n",
    "        best_action = np.argmax(q_values)\n",
    "        A[best_action] += (1.0 - epsilon)\n",
    "        return A\n",
    "    return policy_fn"
   ]
  },
  {
   "cell_type": "code",
   "execution_count": 8,
   "metadata": {},
   "outputs": [],
   "source": [
    "def q_learning(env, estimator, num_episodes, discount_factor=1.0, epsilon=0.1, epsilon_decay=1.0):\n",
    "    \"\"\"\n",
    "    Q-learning with Funtion Approximation with epsilon greedy policy\n",
    "    Args:\n",
    "        env: OpenAI environment.\n",
    "        estimator: Action-Value function estimator\n",
    "        num_episodes: Number of episodes to run for.\n",
    "        discount_factor: Gamma discount factor.\n",
    "        epsilon: Chance the sample a random action. Float betwen 0 and 1.\n",
    "        epsilon_decay: Each episode, epsilon is decayed by this factor\n",
    "    \n",
    "    Returns:\n",
    "        An EpisodeStats object with two numpy arrays for episode_lengths and episode_rewards.\n",
    "    \"\"\"\n",
    "\n",
    "    # 통계(episode별 길이와 reward)를 저장\n",
    "    EpisodeStats = namedtuple(\"Stats\",[\"episode_lengths\", \"episode_rewards\"])\n",
    "    stats = EpisodeStats(episode_lengths=np.zeros(num_episodes),\n",
    "                         episode_rewards=np.zeros(num_episodes))\n",
    "    position_list = []\n",
    "    \n",
    "    for i_episode in range(num_episodes):\n",
    "        \n",
    "        # policy 정의\n",
    "        policy = make_epsilon_greedy_policy(\n",
    "            estimator, epsilon * epsilon_decay**i_episode, env.action_space.n)\n",
    "        \n",
    "        # Print out which episode we're on, useful for debugging.\n",
    "        # Also print reward for last episode\n",
    "        last_reward = stats.episode_rewards[i_episode - 1]\n",
    "        print(\"\\rEpisode {}/{} ({})\".format(i_episode + 1, num_episodes, last_reward), end=\"\")\n",
    "        sys.stdout.flush()\n",
    "        \n",
    "        # TODO: Implement this!\n",
    "    \n",
    "    return stats"
   ]
  },
  {
   "cell_type": "code",
   "execution_count": 9,
   "metadata": {},
   "outputs": [],
   "source": [
    "estimator = Estimator()"
   ]
  },
  {
   "cell_type": "code",
   "execution_count": 10,
   "metadata": {},
   "outputs": [
    {
     "name": "stdout",
     "output_type": "stream",
     "text": [
      "Episode 100/100 (0.0)"
     ]
    }
   ],
   "source": [
    "stats = q_learning(env, estimator, 100, epsilon=0.0)"
   ]
  },
  {
   "cell_type": "code",
   "execution_count": null,
   "metadata": {},
   "outputs": [],
   "source": [
    "plotting.get_render(position_list[-1000:])"
   ]
  },
  {
   "cell_type": "code",
   "execution_count": null,
   "metadata": {},
   "outputs": [],
   "source": [
    "plotting.plot_cost_to_go_mountain_car(env, estimator)\n",
    "plotting.plot_episode_stats(stats, smoothing_window=25)"
   ]
  }
 ],
 "metadata": {
  "kernelspec": {
   "display_name": "Python 3",
   "language": "python",
   "name": "python3"
  },
  "language_info": {
   "codemirror_mode": {
    "name": "ipython",
    "version": 3
   },
   "file_extension": ".py",
   "mimetype": "text/x-python",
   "name": "python",
   "nbconvert_exporter": "python",
   "pygments_lexer": "ipython3",
   "version": "3.6.10"
  }
 },
 "nbformat": 4,
 "nbformat_minor": 1
}
